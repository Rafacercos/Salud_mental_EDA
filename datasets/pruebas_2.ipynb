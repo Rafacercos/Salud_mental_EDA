{
 "cells": [
  {
   "cell_type": "code",
   "execution_count": 98,
   "metadata": {},
   "outputs": [],
   "source": [
    "import pandas as pd\n",
    "import matplotlib.pyplot as plt\n"
   ]
  },
  {
   "cell_type": "code",
   "execution_count": 4,
   "metadata": {},
   "outputs": [],
   "source": [
    "suicidios = pd.read_csv(\"Datos suicidio.csv\")"
   ]
  },
  {
   "cell_type": "code",
   "execution_count": 5,
   "metadata": {},
   "outputs": [
    {
     "name": "stdout",
     "output_type": "stream",
     "text": [
      "<class 'pandas.core.frame.DataFrame'>\n",
      "RangeIndex: 228 entries, 0 to 227\n",
      "Data columns (total 30 columns):\n",
      " #   Column        Non-Null Count  Dtype  \n",
      "---  ------        --------------  -----  \n",
      " 0   country_name  228 non-null    object \n",
      " 1    1990         226 non-null    float64\n",
      " 2   1991          226 non-null    float64\n",
      " 3   1992          226 non-null    float64\n",
      " 4   1993          226 non-null    float64\n",
      " 5   1994          226 non-null    float64\n",
      " 6   1995          226 non-null    float64\n",
      " 7   1996          226 non-null    float64\n",
      " 8   1997          226 non-null    float64\n",
      " 9   1998          226 non-null    float64\n",
      " 10  1999          226 non-null    float64\n",
      " 11  2000          226 non-null    float64\n",
      " 12  2001          226 non-null    float64\n",
      " 13  2002          226 non-null    float64\n",
      " 14  2003          226 non-null    float64\n",
      " 15  2004          226 non-null    float64\n",
      " 16  2005          226 non-null    float64\n",
      " 17  2006          226 non-null    float64\n",
      " 18  2007          226 non-null    float64\n",
      " 19  2008          226 non-null    float64\n",
      " 20  2009          226 non-null    float64\n",
      " 21  2010          226 non-null    float64\n",
      " 22  2011          226 non-null    float64\n",
      " 23  2012          226 non-null    float64\n",
      " 24  2013          226 non-null    float64\n",
      " 25  2014          226 non-null    float64\n",
      " 26  2015          226 non-null    float64\n",
      " 27  2016          226 non-null    float64\n",
      " 28  2017          226 non-null    float64\n",
      " 29  Unnamed: 29   0 non-null      float64\n",
      "dtypes: float64(29), object(1)\n",
      "memory usage: 53.6+ KB\n"
     ]
    }
   ],
   "source": [
    "suicidios.info()\n",
    "suicidios.head()\n",
    "suicidios.drop(columns=\"Unnamed: 29\",inplace=True)"
   ]
  },
  {
   "cell_type": "code",
   "execution_count": 6,
   "metadata": {},
   "outputs": [],
   "source": [
    "suicidios.dropna(thresh=20,inplace=True)"
   ]
  },
  {
   "cell_type": "code",
   "execution_count": 7,
   "metadata": {},
   "outputs": [],
   "source": [
    "for columna in suicidios.columns:\n",
    "    columna.strip()\n",
    "    suicidios.rename(columns= {columna : columna.strip()},inplace = True)\n"
   ]
  },
  {
   "cell_type": "code",
   "execution_count": 8,
   "metadata": {},
   "outputs": [],
   "source": [
    "suicidios.rename(columns= {\"country_name\": \"Country\"},inplace = True)\n"
   ]
  },
  {
   "cell_type": "code",
   "execution_count": 9,
   "metadata": {},
   "outputs": [],
   "source": [
    "poblacion = pd.read_csv(\"Poblacion.csv\")\n",
    "continentes = pd.read_csv(\"countries_continents.csv\")\n",
    "df_cont = pd.merge(suicidios,continentes,on= \"Country\",how = \"outer\")\n",
    "suicidios_final = pd.merge(df_cont,poblacion,on=\"Country\",how= \"outer\")"
   ]
  },
  {
   "cell_type": "code",
   "execution_count": 10,
   "metadata": {},
   "outputs": [],
   "source": [
    "suicidios_final.dropna(axis = 0,thresh=30,inplace=True)"
   ]
  },
  {
   "cell_type": "code",
   "execution_count": 11,
   "metadata": {},
   "outputs": [],
   "source": [
    "suicidios_final.drop(columns=\"1990\",inplace=True)"
   ]
  },
  {
   "cell_type": "code",
   "execution_count": 12,
   "metadata": {},
   "outputs": [],
   "source": [
    "suicidios_long = suicidios_final.melt(id_vars=['Country', 'Continent', 'Population'],var_name='año',value_name='suicidios')"
   ]
  },
  {
   "cell_type": "markdown",
   "metadata": {},
   "source": [
    "LIMPIO EL DATASET DE DESEMPLEO Y LE AÑADO LO PERTINENTE PARA UNIRLOS"
   ]
  },
  {
   "cell_type": "code",
   "execution_count": 13,
   "metadata": {},
   "outputs": [],
   "source": [
    "desempleo= pd.read_csv(\"desempleo.csv\")"
   ]
  },
  {
   "cell_type": "code",
   "execution_count": 14,
   "metadata": {},
   "outputs": [],
   "source": [
    "desempleo.drop(columns={\"Unnamed: 33\"},inplace=True)"
   ]
  },
  {
   "cell_type": "code",
   "execution_count": 15,
   "metadata": {},
   "outputs": [],
   "source": [
    "desempleo.drop(axis=1,columns={\"2018\",\"2019\",\"2020\",\"2021\",\"2022\"},inplace=True)"
   ]
  },
  {
   "cell_type": "code",
   "execution_count": 16,
   "metadata": {},
   "outputs": [],
   "source": [
    "desempleo.dropna(how=\"all\",inplace=True)\n",
    "desempleo.rename(columns={\"country_name\":\"Country\"},inplace=True)"
   ]
  },
  {
   "cell_type": "code",
   "execution_count": 17,
   "metadata": {},
   "outputs": [],
   "source": [
    "poblacion = pd.read_csv(\"Poblacion.csv\")\n",
    "continentes = pd.read_csv(\"countries_continents.csv\")\n",
    "df_cont = pd.merge(desempleo,continentes,on= \"Country\",how = \"outer\")\n",
    "desempleo_final = pd.merge(df_cont,poblacion,on=\"Country\",how= \"outer\")"
   ]
  },
  {
   "cell_type": "code",
   "execution_count": 18,
   "metadata": {},
   "outputs": [],
   "source": [
    "desempleo_final.dropna(axis=0,thresh=30,inplace=True)"
   ]
  },
  {
   "cell_type": "code",
   "execution_count": 19,
   "metadata": {},
   "outputs": [],
   "source": [
    "desempleo_long = desempleo_final.melt(id_vars=['Country', 'Continent'],var_name='año',value_name='desempleo')"
   ]
  },
  {
   "cell_type": "markdown",
   "metadata": {},
   "source": [
    "UNO LOS DATASET DE SUICIDIOS Y EL DE DESEMPLEO"
   ]
  },
  {
   "cell_type": "code",
   "execution_count": 20,
   "metadata": {},
   "outputs": [],
   "source": [
    "suicidio_desempleo = pd.merge(suicidios_long,desempleo_long,how=\"inner\",on=[\"Country\",\"Continent\",\"año\"])"
   ]
  },
  {
   "cell_type": "markdown",
   "metadata": {},
   "source": [
    "LIMPIO Y PREPARO EL DATASET DE ACCESO A LA SANIDAD PARA UNIRLO TAMBIÉN"
   ]
  },
  {
   "cell_type": "code",
   "execution_count": 21,
   "metadata": {},
   "outputs": [],
   "source": [
    "sanidad = pd.read_csv(\"sanidad.csv\")"
   ]
  },
  {
   "cell_type": "code",
   "execution_count": 22,
   "metadata": {},
   "outputs": [
    {
     "name": "stdout",
     "output_type": "stream",
     "text": [
      "<class 'pandas.core.frame.DataFrame'>\n",
      "RangeIndex: 228 entries, 0 to 227\n",
      "Data columns (total 28 columns):\n",
      " #   Column        Non-Null Count  Dtype  \n",
      "---  ------        --------------  -----  \n",
      " 0   country_name  228 non-null    object \n",
      " 1    1990         226 non-null    float64\n",
      " 2   1991          226 non-null    object \n",
      " 3   1992          226 non-null    object \n",
      " 4   1993          226 non-null    object \n",
      " 5   1994          226 non-null    object \n",
      " 6   1995          226 non-null    float64\n",
      " 7   1996          226 non-null    object \n",
      " 8   1997          226 non-null    object \n",
      " 9   1998          226 non-null    object \n",
      " 10  1999          226 non-null    object \n",
      " 11  2000          226 non-null    float64\n",
      " 12  2001          226 non-null    object \n",
      " 13  2002          226 non-null    object \n",
      " 14  2003          226 non-null    object \n",
      " 15  2004          226 non-null    object \n",
      " 16  2005          226 non-null    float64\n",
      " 17  2006          226 non-null    object \n",
      " 18  2007          226 non-null    object \n",
      " 19  2008          226 non-null    object \n",
      " 20  2009          226 non-null    object \n",
      " 21  2010          226 non-null    float64\n",
      " 22  2011          226 non-null    object \n",
      " 23  2012          226 non-null    object \n",
      " 24  2013          226 non-null    object \n",
      " 25  2014          226 non-null    object \n",
      " 26  2015          226 non-null    float64\n",
      " 27  Unnamed: 27   0 non-null      float64\n",
      "dtypes: float64(7), object(21)\n",
      "memory usage: 50.0+ KB\n"
     ]
    }
   ],
   "source": [
    "sanidad.head()\n",
    "sanidad.columns\n",
    "sanidad.info()"
   ]
  },
  {
   "cell_type": "code",
   "execution_count": 23,
   "metadata": {},
   "outputs": [],
   "source": [
    "for columna in sanidad.columns:\n",
    "    columna.strip()\n",
    "    sanidad.rename(columns= {columna : columna.strip()},inplace = True)"
   ]
  },
  {
   "cell_type": "code",
   "execution_count": 24,
   "metadata": {},
   "outputs": [],
   "source": [
    "sanidad.drop(columns={\"1990\",\"Unnamed: 27\"},inplace=True)"
   ]
  },
  {
   "cell_type": "code",
   "execution_count": 25,
   "metadata": {},
   "outputs": [],
   "source": [
    "for columna in sanidad.select_dtypes(include=['object']).columns:\n",
    "    sanidad[columna] = sanidad[columna].str.replace('*', '', regex=False) "
   ]
  },
  {
   "cell_type": "code",
   "execution_count": 26,
   "metadata": {},
   "outputs": [],
   "source": [
    "sanidad.rename(columns={\"country_name\":\"Country\"},inplace=True)"
   ]
  },
  {
   "cell_type": "code",
   "execution_count": 27,
   "metadata": {},
   "outputs": [],
   "source": [
    "df_cont = pd.merge(sanidad,continentes,on= \"Country\",how = \"outer\")\n",
    "sanidad_final = pd.merge(df_cont,poblacion,on=\"Country\",how= \"outer\")"
   ]
  },
  {
   "cell_type": "code",
   "execution_count": 28,
   "metadata": {},
   "outputs": [],
   "source": [
    "sanidad_final.dropna(thresh=28,inplace=True)"
   ]
  },
  {
   "cell_type": "code",
   "execution_count": 29,
   "metadata": {},
   "outputs": [],
   "source": [
    "sanidad_final[[\"1996\",\"1997\",\"1998\",\"1999\",\"2001\",\"2002\",\"2003\",\"2004\",\"2006\",\"2007\",\"2008\",\"2009\",\"2011\",\"2012\",\"2013\",\"2014\"]] = sanidad_final[[\"1996\",\"1997\",\"1998\",\"1999\",\"2001\",\"2002\",\"2003\",\"2004\",\"2006\",\"2007\",\"2008\",\"2009\",\"2011\",\"2012\",\"2013\",\"2014\"]].astype(float)"
   ]
  },
  {
   "cell_type": "code",
   "execution_count": 30,
   "metadata": {},
   "outputs": [],
   "source": [
    "sanidad_long = sanidad_final.melt(id_vars=['Country', 'Continent'],var_name='año',value_name='sanidad')"
   ]
  },
  {
   "cell_type": "markdown",
   "metadata": {},
   "source": [
    "UNO EL DATASET SANIDAD A LA UNIÓN DE LOS OTROS DOS"
   ]
  },
  {
   "cell_type": "code",
   "execution_count": 57,
   "metadata": {},
   "outputs": [],
   "source": [
    "suicidio_desempleo_sanidad = pd.merge(suicidio_desempleo,sanidad_long,how=\"inner\",on=[\"Country\",\"Continent\",\"año\"])"
   ]
  },
  {
   "cell_type": "code",
   "execution_count": 58,
   "metadata": {},
   "outputs": [
    {
     "data": {
      "text/html": [
       "<div>\n",
       "<style scoped>\n",
       "    .dataframe tbody tr th:only-of-type {\n",
       "        vertical-align: middle;\n",
       "    }\n",
       "\n",
       "    .dataframe tbody tr th {\n",
       "        vertical-align: top;\n",
       "    }\n",
       "\n",
       "    .dataframe thead th {\n",
       "        text-align: right;\n",
       "    }\n",
       "</style>\n",
       "<table border=\"1\" class=\"dataframe\">\n",
       "  <thead>\n",
       "    <tr style=\"text-align: right;\">\n",
       "      <th></th>\n",
       "      <th>Country</th>\n",
       "      <th>Continent</th>\n",
       "      <th>Population</th>\n",
       "      <th>año</th>\n",
       "      <th>suicidios</th>\n",
       "      <th>desempleo</th>\n",
       "      <th>sanidad</th>\n",
       "    </tr>\n",
       "  </thead>\n",
       "  <tbody>\n",
       "    <tr>\n",
       "      <th>0</th>\n",
       "      <td>Afghanistan</td>\n",
       "      <td>Asia</td>\n",
       "      <td>38928341.0</td>\n",
       "      <td>1992</td>\n",
       "      <td>6.979</td>\n",
       "      <td>7.940</td>\n",
       "      <td>24.620</td>\n",
       "    </tr>\n",
       "    <tr>\n",
       "      <th>1</th>\n",
       "      <td>Albania</td>\n",
       "      <td>Europe</td>\n",
       "      <td>2877797.0</td>\n",
       "      <td>1992</td>\n",
       "      <td>3.767</td>\n",
       "      <td>30.007</td>\n",
       "      <td>63.480</td>\n",
       "    </tr>\n",
       "    <tr>\n",
       "      <th>2</th>\n",
       "      <td>Algeria</td>\n",
       "      <td>Africa</td>\n",
       "      <td>43851044.0</td>\n",
       "      <td>1992</td>\n",
       "      <td>4.106</td>\n",
       "      <td>24.380</td>\n",
       "      <td>49.960</td>\n",
       "    </tr>\n",
       "    <tr>\n",
       "      <th>3</th>\n",
       "      <td>Angola</td>\n",
       "      <td>Africa</td>\n",
       "      <td>32866272.0</td>\n",
       "      <td>1992</td>\n",
       "      <td>8.817</td>\n",
       "      <td>16.621</td>\n",
       "      <td>26.720</td>\n",
       "    </tr>\n",
       "    <tr>\n",
       "      <th>4</th>\n",
       "      <td>Argentina</td>\n",
       "      <td>South America</td>\n",
       "      <td>45376763.0</td>\n",
       "      <td>1992</td>\n",
       "      <td>10.684</td>\n",
       "      <td>6.360</td>\n",
       "      <td>58.560</td>\n",
       "    </tr>\n",
       "    <tr>\n",
       "      <th>...</th>\n",
       "      <td>...</td>\n",
       "      <td>...</td>\n",
       "      <td>...</td>\n",
       "      <td>...</td>\n",
       "      <td>...</td>\n",
       "      <td>...</td>\n",
       "      <td>...</td>\n",
       "    </tr>\n",
       "    <tr>\n",
       "      <th>4243</th>\n",
       "      <td>Vietnam</td>\n",
       "      <td>Asia</td>\n",
       "      <td>97338583.0</td>\n",
       "      <td>2015</td>\n",
       "      <td>7.675</td>\n",
       "      <td>1.849</td>\n",
       "      <td>66.3</td>\n",
       "    </tr>\n",
       "    <tr>\n",
       "      <th>4244</th>\n",
       "      <td>Virgin Islands (U.S.)</td>\n",
       "      <td>North America</td>\n",
       "      <td>104000.0</td>\n",
       "      <td>2015</td>\n",
       "      <td>8.707</td>\n",
       "      <td>12.146</td>\n",
       "      <td>70.2</td>\n",
       "    </tr>\n",
       "    <tr>\n",
       "      <th>4245</th>\n",
       "      <td>Yemen</td>\n",
       "      <td>Asia</td>\n",
       "      <td>29825964.0</td>\n",
       "      <td>2015</td>\n",
       "      <td>4.709</td>\n",
       "      <td>17.900</td>\n",
       "      <td>49.6</td>\n",
       "    </tr>\n",
       "    <tr>\n",
       "      <th>4246</th>\n",
       "      <td>Zambia</td>\n",
       "      <td>Africa</td>\n",
       "      <td>18383955.0</td>\n",
       "      <td>2015</td>\n",
       "      <td>6.563</td>\n",
       "      <td>8.316</td>\n",
       "      <td>41.6</td>\n",
       "    </tr>\n",
       "    <tr>\n",
       "      <th>4247</th>\n",
       "      <td>Zimbabwe</td>\n",
       "      <td>Africa</td>\n",
       "      <td>14862927.0</td>\n",
       "      <td>2015</td>\n",
       "      <td>18.222</td>\n",
       "      <td>5.383</td>\n",
       "      <td>48.7</td>\n",
       "    </tr>\n",
       "  </tbody>\n",
       "</table>\n",
       "<p>4248 rows × 7 columns</p>\n",
       "</div>"
      ],
      "text/plain": [
       "                    Country      Continent  Population   año  suicidios  \\\n",
       "0               Afghanistan           Asia  38928341.0  1992      6.979   \n",
       "1                   Albania         Europe   2877797.0  1992      3.767   \n",
       "2                   Algeria         Africa  43851044.0  1992      4.106   \n",
       "3                    Angola         Africa  32866272.0  1992      8.817   \n",
       "4                 Argentina  South America  45376763.0  1992     10.684   \n",
       "...                     ...            ...         ...   ...        ...   \n",
       "4243                Vietnam           Asia  97338583.0  2015      7.675   \n",
       "4244  Virgin Islands (U.S.)  North America    104000.0  2015      8.707   \n",
       "4245                  Yemen           Asia  29825964.0  2015      4.709   \n",
       "4246                 Zambia         Africa  18383955.0  2015      6.563   \n",
       "4247               Zimbabwe         Africa  14862927.0  2015     18.222   \n",
       "\n",
       "      desempleo sanidad  \n",
       "0         7.940  24.620  \n",
       "1        30.007  63.480  \n",
       "2        24.380  49.960  \n",
       "3        16.621  26.720  \n",
       "4         6.360  58.560  \n",
       "...         ...     ...  \n",
       "4243      1.849    66.3  \n",
       "4244     12.146    70.2  \n",
       "4245     17.900    49.6  \n",
       "4246      8.316    41.6  \n",
       "4247      5.383    48.7  \n",
       "\n",
       "[4248 rows x 7 columns]"
      ]
     },
     "execution_count": 58,
     "metadata": {},
     "output_type": "execute_result"
    }
   ],
   "source": [
    "suicidio_desempleo_sanidad"
   ]
  },
  {
   "cell_type": "markdown",
   "metadata": {},
   "source": [
    "LIMPIO Y PREPARO EL DATASET DE WORLD HAPPINESS REPORT"
   ]
  },
  {
   "cell_type": "code",
   "execution_count": 33,
   "metadata": {},
   "outputs": [],
   "source": [
    "felicidad = pd.read_csv(\"World Happiness Report.csv\")"
   ]
  },
  {
   "cell_type": "code",
   "execution_count": null,
   "metadata": {},
   "outputs": [],
   "source": [
    "felicidad.columns"
   ]
  },
  {
   "cell_type": "code",
   "execution_count": 35,
   "metadata": {},
   "outputs": [],
   "source": [
    "felicidad = felicidad[[\"Country Name\",\"Year\",\"Social Support\",\"Freedom To Make Life Choices\"]]"
   ]
  },
  {
   "cell_type": "code",
   "execution_count": 40,
   "metadata": {},
   "outputs": [],
   "source": [
    "felicidad.rename(columns={\"Country Name\":\"Country\"},inplace=True)"
   ]
  },
  {
   "cell_type": "code",
   "execution_count": null,
   "metadata": {},
   "outputs": [],
   "source": [
    "felicidad.info()\n",
    "felicidad.head()"
   ]
  },
  {
   "cell_type": "code",
   "execution_count": 83,
   "metadata": {},
   "outputs": [],
   "source": [
    "felicidad_ordenada = felicidad.pivot_table(index=['Country', 'Year'],values=['Social Support', 'Freedom To Make Life Choices'],aggfunc='mean')\n"
   ]
  },
  {
   "cell_type": "code",
   "execution_count": 84,
   "metadata": {},
   "outputs": [
    {
     "data": {
      "text/html": [
       "<div>\n",
       "<style scoped>\n",
       "    .dataframe tbody tr th:only-of-type {\n",
       "        vertical-align: middle;\n",
       "    }\n",
       "\n",
       "    .dataframe tbody tr th {\n",
       "        vertical-align: top;\n",
       "    }\n",
       "\n",
       "    .dataframe thead th {\n",
       "        text-align: right;\n",
       "    }\n",
       "</style>\n",
       "<table border=\"1\" class=\"dataframe\">\n",
       "  <thead>\n",
       "    <tr style=\"text-align: right;\">\n",
       "      <th></th>\n",
       "      <th></th>\n",
       "      <th>Freedom To Make Life Choices</th>\n",
       "      <th>Social Support</th>\n",
       "    </tr>\n",
       "    <tr>\n",
       "      <th>Country</th>\n",
       "      <th>Year</th>\n",
       "      <th></th>\n",
       "      <th></th>\n",
       "    </tr>\n",
       "  </thead>\n",
       "  <tbody>\n",
       "    <tr>\n",
       "      <th rowspan=\"5\" valign=\"top\">Afghanistan</th>\n",
       "      <th>2008</th>\n",
       "      <td>0.718114</td>\n",
       "      <td>0.450662</td>\n",
       "    </tr>\n",
       "    <tr>\n",
       "      <th>2009</th>\n",
       "      <td>0.678896</td>\n",
       "      <td>0.552308</td>\n",
       "    </tr>\n",
       "    <tr>\n",
       "      <th>2010</th>\n",
       "      <td>0.600127</td>\n",
       "      <td>0.539075</td>\n",
       "    </tr>\n",
       "    <tr>\n",
       "      <th>2011</th>\n",
       "      <td>0.495901</td>\n",
       "      <td>0.521104</td>\n",
       "    </tr>\n",
       "    <tr>\n",
       "      <th>2012</th>\n",
       "      <td>0.530935</td>\n",
       "      <td>0.520637</td>\n",
       "    </tr>\n",
       "    <tr>\n",
       "      <th>...</th>\n",
       "      <th>...</th>\n",
       "      <td>...</td>\n",
       "      <td>...</td>\n",
       "    </tr>\n",
       "    <tr>\n",
       "      <th rowspan=\"5\" valign=\"top\">Zimbabwe</th>\n",
       "      <th>2018</th>\n",
       "      <td>0.762675</td>\n",
       "      <td>0.775388</td>\n",
       "    </tr>\n",
       "    <tr>\n",
       "      <th>2019</th>\n",
       "      <td>0.631908</td>\n",
       "      <td>0.759162</td>\n",
       "    </tr>\n",
       "    <tr>\n",
       "      <th>2020</th>\n",
       "      <td>0.643303</td>\n",
       "      <td>0.717243</td>\n",
       "    </tr>\n",
       "    <tr>\n",
       "      <th>2021</th>\n",
       "      <td>0.667636</td>\n",
       "      <td>0.685151</td>\n",
       "    </tr>\n",
       "    <tr>\n",
       "      <th>2022</th>\n",
       "      <td>0.651987</td>\n",
       "      <td>0.666172</td>\n",
       "    </tr>\n",
       "  </tbody>\n",
       "</table>\n",
       "<p>2193 rows × 2 columns</p>\n",
       "</div>"
      ],
      "text/plain": [
       "                  Freedom To Make Life Choices  Social Support\n",
       "Country     Year                                              \n",
       "Afghanistan 2008                      0.718114        0.450662\n",
       "            2009                      0.678896        0.552308\n",
       "            2010                      0.600127        0.539075\n",
       "            2011                      0.495901        0.521104\n",
       "            2012                      0.530935        0.520637\n",
       "...                                        ...             ...\n",
       "Zimbabwe    2018                      0.762675        0.775388\n",
       "            2019                      0.631908        0.759162\n",
       "            2020                      0.643303        0.717243\n",
       "            2021                      0.667636        0.685151\n",
       "            2022                      0.651987        0.666172\n",
       "\n",
       "[2193 rows x 2 columns]"
      ]
     },
     "execution_count": 84,
     "metadata": {},
     "output_type": "execute_result"
    }
   ],
   "source": [
    "felicidad_ordenada"
   ]
  },
  {
   "cell_type": "markdown",
   "metadata": {},
   "source": [
    "LIMPIO Y PREPARO EL DATASET DE PREVALENCIA DE LA DEPRESIÓN"
   ]
  },
  {
   "cell_type": "code",
   "execution_count": 47,
   "metadata": {},
   "outputs": [],
   "source": [
    "depresion = pd.read_csv(\"depresion.csv\")"
   ]
  },
  {
   "cell_type": "code",
   "execution_count": null,
   "metadata": {},
   "outputs": [
    {
     "data": {
      "text/plain": [
       "Index(['country_name', ' 1990', '1991', '1992', '1993', '1994', '1995', '1996',\n",
       "       '1997', '1998', '1999', '2000', '2001', '2002', '2003', '2004', '2005',\n",
       "       '2006', '2007', '2008', '2009', '2010', '2011', '2012', '2013', '2014',\n",
       "       '2015', '2016', 'Unnamed: 28'],\n",
       "      dtype='object')"
      ]
     },
     "execution_count": 50,
     "metadata": {},
     "output_type": "execute_result"
    }
   ],
   "source": [
    "depresion.columns"
   ]
  },
  {
   "cell_type": "code",
   "execution_count": 52,
   "metadata": {},
   "outputs": [],
   "source": [
    "for columna in depresion.columns:\n",
    "    columna.strip()\n",
    "    depresion.rename(columns= {columna : columna.strip()},inplace = True)"
   ]
  },
  {
   "cell_type": "code",
   "execution_count": 54,
   "metadata": {},
   "outputs": [],
   "source": [
    "depresion.drop(columns={\"1990\",'Unnamed: 28'},inplace=True)"
   ]
  },
  {
   "cell_type": "code",
   "execution_count": null,
   "metadata": {},
   "outputs": [],
   "source": [
    "depresion.info()"
   ]
  },
  {
   "cell_type": "code",
   "execution_count": 59,
   "metadata": {},
   "outputs": [],
   "source": [
    "depresion.rename(columns={\"country_name\":\"Country\"},inplace=True)"
   ]
  },
  {
   "cell_type": "code",
   "execution_count": 69,
   "metadata": {},
   "outputs": [],
   "source": [
    "depresion.dropna(thresh=20,inplace=True)"
   ]
  },
  {
   "cell_type": "code",
   "execution_count": 70,
   "metadata": {},
   "outputs": [],
   "source": [
    "df_cont = pd.merge(depresion,continentes,on= \"Country\",how = \"outer\")\n",
    "depresion_final = pd.merge(df_cont,poblacion,on=\"Country\",how= \"outer\")"
   ]
  },
  {
   "cell_type": "code",
   "execution_count": 75,
   "metadata": {},
   "outputs": [],
   "source": [
    "depresion_final.dropna(thresh=28,inplace=True)"
   ]
  },
  {
   "cell_type": "code",
   "execution_count": 77,
   "metadata": {},
   "outputs": [],
   "source": [
    "depresion_long = depresion_final.melt(id_vars=['Country', 'Continent'],var_name='año',value_name='depresion')"
   ]
  },
  {
   "cell_type": "markdown",
   "metadata": {},
   "source": [
    "UNO LA ÚLTIMA VARIABLE A EL DATASET CON LAS VARIABLES SUICIDIOS SANIDAD Y DESEMPLEO"
   ]
  },
  {
   "cell_type": "code",
   "execution_count": 78,
   "metadata": {},
   "outputs": [],
   "source": [
    "variables = pd.merge(suicidio_desempleo_sanidad,depresion_long,how=\"inner\",on=[\"Country\",\"Continent\",\"año\"])"
   ]
  },
  {
   "cell_type": "code",
   "execution_count": 81,
   "metadata": {},
   "outputs": [],
   "source": [
    "variables[\"sanidad\"] = variables[\"sanidad\"].astype(float)"
   ]
  },
  {
   "cell_type": "markdown",
   "metadata": {},
   "source": [
    "YA TENGO LOS DOS DATA SETS CON LOS QUE VOY A TRABAJAR LIMPIOS: VARIABLES Y WORLD HAPPINESS REPORT"
   ]
  },
  {
   "cell_type": "code",
   "execution_count": 82,
   "metadata": {},
   "outputs": [
    {
     "name": "stdout",
     "output_type": "stream",
     "text": [
      "<class 'pandas.core.frame.DataFrame'>\n",
      "RangeIndex: 4248 entries, 0 to 4247\n",
      "Data columns (total 8 columns):\n",
      " #   Column      Non-Null Count  Dtype  \n",
      "---  ------      --------------  -----  \n",
      " 0   Country     4248 non-null   object \n",
      " 1   Continent   4248 non-null   object \n",
      " 2   Population  4248 non-null   float64\n",
      " 3   año         4248 non-null   object \n",
      " 4   suicidios   4248 non-null   float64\n",
      " 5   desempleo   4248 non-null   float64\n",
      " 6   sanidad     4248 non-null   float64\n",
      " 7   depresion   4248 non-null   float64\n",
      "dtypes: float64(5), object(3)\n",
      "memory usage: 265.6+ KB\n"
     ]
    }
   ],
   "source": [
    "variables.info()"
   ]
  },
  {
   "cell_type": "code",
   "execution_count": 85,
   "metadata": {},
   "outputs": [
    {
     "name": "stdout",
     "output_type": "stream",
     "text": [
      "<class 'pandas.core.frame.DataFrame'>\n",
      "MultiIndex: 2193 entries, ('Afghanistan', np.int64(2008)) to ('Zimbabwe', np.int64(2022))\n",
      "Data columns (total 2 columns):\n",
      " #   Column                        Non-Null Count  Dtype  \n",
      "---  ------                        --------------  -----  \n",
      " 0   Freedom To Make Life Choices  2166 non-null   float64\n",
      " 1   Social Support                2186 non-null   float64\n",
      "dtypes: float64(2)\n",
      "memory usage: 46.3+ KB\n"
     ]
    }
   ],
   "source": [
    "felicidad_ordenada.info()"
   ]
  },
  {
   "cell_type": "markdown",
   "metadata": {},
   "source": [
    "ESTADÍSTICOS Y GRÁFICOS:"
   ]
  },
  {
   "cell_type": "markdown",
   "metadata": {},
   "source": [
    "HIPÓTESIS 1 : Los diagnósticos de depresión han ido aumentado progresivamente a nivel global desde la década de 1990"
   ]
  },
  {
   "cell_type": "code",
   "execution_count": null,
   "metadata": {},
   "outputs": [],
   "source": [
    "variables.groupby([\"Continent\",\"año\"])[[\"depresion\"]].mean()"
   ]
  },
  {
   "cell_type": "markdown",
   "metadata": {},
   "source": [
    "Esto me proporciona una media por continente con los valores de los paises pero sin tener en cuenta la poblacion de cada uno. Utilizaré otro método para obtener una media relativa"
   ]
  },
  {
   "cell_type": "code",
   "execution_count": null,
   "metadata": {},
   "outputs": [],
   "source": [
    "variables[\"personas depresion\"] = (variables[\"depresion\"]*variables[\"Population\"]/100)\n",
    "variables[\"total personas continente\"] = "
   ]
  },
  {
   "cell_type": "code",
   "execution_count": 112,
   "metadata": {},
   "outputs": [
    {
     "data": {
      "text/plain": [
       "np.float64(41714840.60139)"
      ]
     },
     "execution_count": 112,
     "metadata": {},
     "output_type": "execute_result"
    }
   ],
   "source": [
    "variables.groupby([\"año\",\"Continent\"])[\"personas depresion\"].sum().loc[\"1992\"][\"Africa\"]"
   ]
  },
  {
   "cell_type": "code",
   "execution_count": null,
   "metadata": {},
   "outputs": [],
   "source": []
  }
 ],
 "metadata": {
  "kernelspec": {
   "display_name": "Python 3",
   "language": "python",
   "name": "python3"
  },
  "language_info": {
   "codemirror_mode": {
    "name": "ipython",
    "version": 3
   },
   "file_extension": ".py",
   "mimetype": "text/x-python",
   "name": "python",
   "nbconvert_exporter": "python",
   "pygments_lexer": "ipython3",
   "version": "3.10.11"
  }
 },
 "nbformat": 4,
 "nbformat_minor": 2
}
