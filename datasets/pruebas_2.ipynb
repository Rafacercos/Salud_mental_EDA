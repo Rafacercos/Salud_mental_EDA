{
 "cells": [
  {
   "cell_type": "code",
   "execution_count": 245,
   "metadata": {},
   "outputs": [],
   "source": [
    "import pandas as pd\n",
    "import matplotlib.pyplot as plt\n",
    "import seaborn as sns\n",
    "import numpy as np"
   ]
  },
  {
   "cell_type": "code",
   "execution_count": 3,
   "metadata": {},
   "outputs": [],
   "source": [
    "suicidios = pd.read_csv(\"Datos suicidio.csv\")"
   ]
  },
  {
   "cell_type": "code",
   "execution_count": 4,
   "metadata": {},
   "outputs": [
    {
     "name": "stdout",
     "output_type": "stream",
     "text": [
      "<class 'pandas.core.frame.DataFrame'>\n",
      "RangeIndex: 228 entries, 0 to 227\n",
      "Data columns (total 30 columns):\n",
      " #   Column        Non-Null Count  Dtype  \n",
      "---  ------        --------------  -----  \n",
      " 0   country_name  228 non-null    object \n",
      " 1    1990         226 non-null    float64\n",
      " 2   1991          226 non-null    float64\n",
      " 3   1992          226 non-null    float64\n",
      " 4   1993          226 non-null    float64\n",
      " 5   1994          226 non-null    float64\n",
      " 6   1995          226 non-null    float64\n",
      " 7   1996          226 non-null    float64\n",
      " 8   1997          226 non-null    float64\n",
      " 9   1998          226 non-null    float64\n",
      " 10  1999          226 non-null    float64\n",
      " 11  2000          226 non-null    float64\n",
      " 12  2001          226 non-null    float64\n",
      " 13  2002          226 non-null    float64\n",
      " 14  2003          226 non-null    float64\n",
      " 15  2004          226 non-null    float64\n",
      " 16  2005          226 non-null    float64\n",
      " 17  2006          226 non-null    float64\n",
      " 18  2007          226 non-null    float64\n",
      " 19  2008          226 non-null    float64\n",
      " 20  2009          226 non-null    float64\n",
      " 21  2010          226 non-null    float64\n",
      " 22  2011          226 non-null    float64\n",
      " 23  2012          226 non-null    float64\n",
      " 24  2013          226 non-null    float64\n",
      " 25  2014          226 non-null    float64\n",
      " 26  2015          226 non-null    float64\n",
      " 27  2016          226 non-null    float64\n",
      " 28  2017          226 non-null    float64\n",
      " 29  Unnamed: 29   0 non-null      float64\n",
      "dtypes: float64(29), object(1)\n",
      "memory usage: 53.6+ KB\n"
     ]
    }
   ],
   "source": [
    "suicidios.info()\n",
    "suicidios.head()\n",
    "suicidios.drop(columns=\"Unnamed: 29\",inplace=True)"
   ]
  },
  {
   "cell_type": "code",
   "execution_count": 5,
   "metadata": {},
   "outputs": [],
   "source": [
    "suicidios.dropna(thresh=20,inplace=True)"
   ]
  },
  {
   "cell_type": "code",
   "execution_count": 6,
   "metadata": {},
   "outputs": [],
   "source": [
    "for columna in suicidios.columns:\n",
    "    columna.strip()\n",
    "    suicidios.rename(columns= {columna : columna.strip()},inplace = True)\n"
   ]
  },
  {
   "cell_type": "code",
   "execution_count": 7,
   "metadata": {},
   "outputs": [],
   "source": [
    "suicidios.rename(columns= {\"country_name\": \"Country\"},inplace = True)\n"
   ]
  },
  {
   "cell_type": "code",
   "execution_count": 8,
   "metadata": {},
   "outputs": [],
   "source": [
    "poblacion = pd.read_csv(\"Poblacion.csv\")\n",
    "continentes = pd.read_csv(\"countries_continents.csv\")\n",
    "df_cont = pd.merge(suicidios,continentes,on= \"Country\",how = \"outer\")\n",
    "suicidios_final = pd.merge(df_cont,poblacion,on=\"Country\",how= \"outer\")"
   ]
  },
  {
   "cell_type": "code",
   "execution_count": 9,
   "metadata": {},
   "outputs": [],
   "source": [
    "suicidios_final.dropna(axis = 0,thresh=30,inplace=True)"
   ]
  },
  {
   "cell_type": "code",
   "execution_count": 10,
   "metadata": {},
   "outputs": [],
   "source": [
    "suicidios_final.drop(columns=\"1990\",inplace=True)"
   ]
  },
  {
   "cell_type": "code",
   "execution_count": 11,
   "metadata": {},
   "outputs": [],
   "source": [
    "suicidios_long = suicidios_final.melt(id_vars=['Country', 'Continent', 'Population'],var_name='año',value_name='suicidios')"
   ]
  },
  {
   "cell_type": "markdown",
   "metadata": {},
   "source": [
    "LIMPIO EL DATASET DE DESEMPLEO Y LE AÑADO LO PERTINENTE PARA UNIRLOS"
   ]
  },
  {
   "cell_type": "code",
   "execution_count": 12,
   "metadata": {},
   "outputs": [],
   "source": [
    "desempleo= pd.read_csv(\"desempleo.csv\")"
   ]
  },
  {
   "cell_type": "code",
   "execution_count": 13,
   "metadata": {},
   "outputs": [],
   "source": [
    "desempleo.drop(columns={\"Unnamed: 33\"},inplace=True)"
   ]
  },
  {
   "cell_type": "code",
   "execution_count": 14,
   "metadata": {},
   "outputs": [],
   "source": [
    "desempleo.drop(axis=1,columns={\"2018\",\"2019\",\"2020\",\"2021\",\"2022\"},inplace=True)"
   ]
  },
  {
   "cell_type": "code",
   "execution_count": 15,
   "metadata": {},
   "outputs": [],
   "source": [
    "desempleo.dropna(how=\"all\",inplace=True)\n",
    "desempleo.rename(columns={\"country_name\":\"Country\"},inplace=True)"
   ]
  },
  {
   "cell_type": "code",
   "execution_count": 16,
   "metadata": {},
   "outputs": [],
   "source": [
    "poblacion = pd.read_csv(\"Poblacion.csv\")\n",
    "continentes = pd.read_csv(\"countries_continents.csv\")\n",
    "df_cont = pd.merge(desempleo,continentes,on= \"Country\",how = \"outer\")\n",
    "desempleo_final = pd.merge(df_cont,poblacion,on=\"Country\",how= \"outer\")"
   ]
  },
  {
   "cell_type": "code",
   "execution_count": 17,
   "metadata": {},
   "outputs": [],
   "source": [
    "desempleo_final.dropna(axis=0,thresh=30,inplace=True)"
   ]
  },
  {
   "cell_type": "code",
   "execution_count": 18,
   "metadata": {},
   "outputs": [],
   "source": [
    "desempleo_long = desempleo_final.melt(id_vars=['Country', 'Continent'],var_name='año',value_name='desempleo')"
   ]
  },
  {
   "cell_type": "markdown",
   "metadata": {},
   "source": [
    "UNO LOS DATASET DE SUICIDIOS Y EL DE DESEMPLEO"
   ]
  },
  {
   "cell_type": "code",
   "execution_count": 19,
   "metadata": {},
   "outputs": [],
   "source": [
    "suicidio_desempleo = pd.merge(suicidios_long,desempleo_long,how=\"inner\",on=[\"Country\",\"Continent\",\"año\"])"
   ]
  },
  {
   "cell_type": "markdown",
   "metadata": {},
   "source": [
    "LIMPIO Y PREPARO EL DATASET DE ACCESO A LA SANIDAD PARA UNIRLO TAMBIÉN"
   ]
  },
  {
   "cell_type": "code",
   "execution_count": 20,
   "metadata": {},
   "outputs": [],
   "source": [
    "sanidad = pd.read_csv(\"sanidad.csv\")"
   ]
  },
  {
   "cell_type": "code",
   "execution_count": 21,
   "metadata": {},
   "outputs": [
    {
     "name": "stdout",
     "output_type": "stream",
     "text": [
      "<class 'pandas.core.frame.DataFrame'>\n",
      "RangeIndex: 228 entries, 0 to 227\n",
      "Data columns (total 28 columns):\n",
      " #   Column        Non-Null Count  Dtype  \n",
      "---  ------        --------------  -----  \n",
      " 0   country_name  228 non-null    object \n",
      " 1    1990         226 non-null    float64\n",
      " 2   1991          226 non-null    object \n",
      " 3   1992          226 non-null    object \n",
      " 4   1993          226 non-null    object \n",
      " 5   1994          226 non-null    object \n",
      " 6   1995          226 non-null    float64\n",
      " 7   1996          226 non-null    object \n",
      " 8   1997          226 non-null    object \n",
      " 9   1998          226 non-null    object \n",
      " 10  1999          226 non-null    object \n",
      " 11  2000          226 non-null    float64\n",
      " 12  2001          226 non-null    object \n",
      " 13  2002          226 non-null    object \n",
      " 14  2003          226 non-null    object \n",
      " 15  2004          226 non-null    object \n",
      " 16  2005          226 non-null    float64\n",
      " 17  2006          226 non-null    object \n",
      " 18  2007          226 non-null    object \n",
      " 19  2008          226 non-null    object \n",
      " 20  2009          226 non-null    object \n",
      " 21  2010          226 non-null    float64\n",
      " 22  2011          226 non-null    object \n",
      " 23  2012          226 non-null    object \n",
      " 24  2013          226 non-null    object \n",
      " 25  2014          226 non-null    object \n",
      " 26  2015          226 non-null    float64\n",
      " 27  Unnamed: 27   0 non-null      float64\n",
      "dtypes: float64(7), object(21)\n",
      "memory usage: 50.0+ KB\n"
     ]
    }
   ],
   "source": [
    "sanidad.head()\n",
    "sanidad.columns\n",
    "sanidad.info()"
   ]
  },
  {
   "cell_type": "code",
   "execution_count": 22,
   "metadata": {},
   "outputs": [],
   "source": [
    "for columna in sanidad.columns:\n",
    "    columna.strip()\n",
    "    sanidad.rename(columns= {columna : columna.strip()},inplace = True)"
   ]
  },
  {
   "cell_type": "code",
   "execution_count": 23,
   "metadata": {},
   "outputs": [],
   "source": [
    "sanidad.drop(columns={\"1990\",\"Unnamed: 27\"},inplace=True)"
   ]
  },
  {
   "cell_type": "code",
   "execution_count": 24,
   "metadata": {},
   "outputs": [],
   "source": [
    "for columna in sanidad.select_dtypes(include=['object']).columns:\n",
    "    sanidad[columna] = sanidad[columna].str.replace('*', '', regex=False) "
   ]
  },
  {
   "cell_type": "code",
   "execution_count": 25,
   "metadata": {},
   "outputs": [],
   "source": [
    "sanidad.rename(columns={\"country_name\":\"Country\"},inplace=True)"
   ]
  },
  {
   "cell_type": "code",
   "execution_count": 26,
   "metadata": {},
   "outputs": [],
   "source": [
    "df_cont = pd.merge(sanidad,continentes,on= \"Country\",how = \"outer\")\n",
    "sanidad_final = pd.merge(df_cont,poblacion,on=\"Country\",how= \"outer\")"
   ]
  },
  {
   "cell_type": "code",
   "execution_count": 27,
   "metadata": {},
   "outputs": [],
   "source": [
    "sanidad_final.dropna(thresh=28,inplace=True)"
   ]
  },
  {
   "cell_type": "code",
   "execution_count": 28,
   "metadata": {},
   "outputs": [],
   "source": [
    "sanidad_final[[\"1996\",\"1997\",\"1998\",\"1999\",\"2001\",\"2002\",\"2003\",\"2004\",\"2006\",\"2007\",\"2008\",\"2009\",\"2011\",\"2012\",\"2013\",\"2014\"]] = sanidad_final[[\"1996\",\"1997\",\"1998\",\"1999\",\"2001\",\"2002\",\"2003\",\"2004\",\"2006\",\"2007\",\"2008\",\"2009\",\"2011\",\"2012\",\"2013\",\"2014\"]].astype(float)"
   ]
  },
  {
   "cell_type": "code",
   "execution_count": 29,
   "metadata": {},
   "outputs": [],
   "source": [
    "sanidad_long = sanidad_final.melt(id_vars=['Country', 'Continent'],var_name='año',value_name='sanidad')"
   ]
  },
  {
   "cell_type": "markdown",
   "metadata": {},
   "source": [
    "UNO EL DATASET SANIDAD A LA UNIÓN DE LOS OTROS DOS"
   ]
  },
  {
   "cell_type": "code",
   "execution_count": 30,
   "metadata": {},
   "outputs": [],
   "source": [
    "suicidio_desempleo_sanidad = pd.merge(suicidio_desempleo,sanidad_long,how=\"inner\",on=[\"Country\",\"Continent\",\"año\"])"
   ]
  },
  {
   "cell_type": "code",
   "execution_count": 31,
   "metadata": {},
   "outputs": [
    {
     "data": {
      "text/html": [
       "<div>\n",
       "<style scoped>\n",
       "    .dataframe tbody tr th:only-of-type {\n",
       "        vertical-align: middle;\n",
       "    }\n",
       "\n",
       "    .dataframe tbody tr th {\n",
       "        vertical-align: top;\n",
       "    }\n",
       "\n",
       "    .dataframe thead th {\n",
       "        text-align: right;\n",
       "    }\n",
       "</style>\n",
       "<table border=\"1\" class=\"dataframe\">\n",
       "  <thead>\n",
       "    <tr style=\"text-align: right;\">\n",
       "      <th></th>\n",
       "      <th>Country</th>\n",
       "      <th>Continent</th>\n",
       "      <th>Population</th>\n",
       "      <th>año</th>\n",
       "      <th>suicidios</th>\n",
       "      <th>desempleo</th>\n",
       "      <th>sanidad</th>\n",
       "    </tr>\n",
       "  </thead>\n",
       "  <tbody>\n",
       "    <tr>\n",
       "      <th>0</th>\n",
       "      <td>Afghanistan</td>\n",
       "      <td>Asia</td>\n",
       "      <td>38928341.0</td>\n",
       "      <td>1992</td>\n",
       "      <td>6.979</td>\n",
       "      <td>7.940</td>\n",
       "      <td>24.620</td>\n",
       "    </tr>\n",
       "    <tr>\n",
       "      <th>1</th>\n",
       "      <td>Albania</td>\n",
       "      <td>Europe</td>\n",
       "      <td>2877797.0</td>\n",
       "      <td>1992</td>\n",
       "      <td>3.767</td>\n",
       "      <td>30.007</td>\n",
       "      <td>63.480</td>\n",
       "    </tr>\n",
       "    <tr>\n",
       "      <th>2</th>\n",
       "      <td>Algeria</td>\n",
       "      <td>Africa</td>\n",
       "      <td>43851044.0</td>\n",
       "      <td>1992</td>\n",
       "      <td>4.106</td>\n",
       "      <td>24.380</td>\n",
       "      <td>49.960</td>\n",
       "    </tr>\n",
       "    <tr>\n",
       "      <th>3</th>\n",
       "      <td>Angola</td>\n",
       "      <td>Africa</td>\n",
       "      <td>32866272.0</td>\n",
       "      <td>1992</td>\n",
       "      <td>8.817</td>\n",
       "      <td>16.621</td>\n",
       "      <td>26.720</td>\n",
       "    </tr>\n",
       "    <tr>\n",
       "      <th>4</th>\n",
       "      <td>Argentina</td>\n",
       "      <td>South America</td>\n",
       "      <td>45376763.0</td>\n",
       "      <td>1992</td>\n",
       "      <td>10.684</td>\n",
       "      <td>6.360</td>\n",
       "      <td>58.560</td>\n",
       "    </tr>\n",
       "    <tr>\n",
       "      <th>...</th>\n",
       "      <td>...</td>\n",
       "      <td>...</td>\n",
       "      <td>...</td>\n",
       "      <td>...</td>\n",
       "      <td>...</td>\n",
       "      <td>...</td>\n",
       "      <td>...</td>\n",
       "    </tr>\n",
       "    <tr>\n",
       "      <th>4243</th>\n",
       "      <td>Vietnam</td>\n",
       "      <td>Asia</td>\n",
       "      <td>97338583.0</td>\n",
       "      <td>2015</td>\n",
       "      <td>7.675</td>\n",
       "      <td>1.849</td>\n",
       "      <td>66.3</td>\n",
       "    </tr>\n",
       "    <tr>\n",
       "      <th>4244</th>\n",
       "      <td>Virgin Islands (U.S.)</td>\n",
       "      <td>North America</td>\n",
       "      <td>104000.0</td>\n",
       "      <td>2015</td>\n",
       "      <td>8.707</td>\n",
       "      <td>12.146</td>\n",
       "      <td>70.2</td>\n",
       "    </tr>\n",
       "    <tr>\n",
       "      <th>4245</th>\n",
       "      <td>Yemen</td>\n",
       "      <td>Asia</td>\n",
       "      <td>29825964.0</td>\n",
       "      <td>2015</td>\n",
       "      <td>4.709</td>\n",
       "      <td>17.900</td>\n",
       "      <td>49.6</td>\n",
       "    </tr>\n",
       "    <tr>\n",
       "      <th>4246</th>\n",
       "      <td>Zambia</td>\n",
       "      <td>Africa</td>\n",
       "      <td>18383955.0</td>\n",
       "      <td>2015</td>\n",
       "      <td>6.563</td>\n",
       "      <td>8.316</td>\n",
       "      <td>41.6</td>\n",
       "    </tr>\n",
       "    <tr>\n",
       "      <th>4247</th>\n",
       "      <td>Zimbabwe</td>\n",
       "      <td>Africa</td>\n",
       "      <td>14862927.0</td>\n",
       "      <td>2015</td>\n",
       "      <td>18.222</td>\n",
       "      <td>5.383</td>\n",
       "      <td>48.7</td>\n",
       "    </tr>\n",
       "  </tbody>\n",
       "</table>\n",
       "<p>4248 rows × 7 columns</p>\n",
       "</div>"
      ],
      "text/plain": [
       "                    Country      Continent  Population   año  suicidios  \\\n",
       "0               Afghanistan           Asia  38928341.0  1992      6.979   \n",
       "1                   Albania         Europe   2877797.0  1992      3.767   \n",
       "2                   Algeria         Africa  43851044.0  1992      4.106   \n",
       "3                    Angola         Africa  32866272.0  1992      8.817   \n",
       "4                 Argentina  South America  45376763.0  1992     10.684   \n",
       "...                     ...            ...         ...   ...        ...   \n",
       "4243                Vietnam           Asia  97338583.0  2015      7.675   \n",
       "4244  Virgin Islands (U.S.)  North America    104000.0  2015      8.707   \n",
       "4245                  Yemen           Asia  29825964.0  2015      4.709   \n",
       "4246                 Zambia         Africa  18383955.0  2015      6.563   \n",
       "4247               Zimbabwe         Africa  14862927.0  2015     18.222   \n",
       "\n",
       "      desempleo sanidad  \n",
       "0         7.940  24.620  \n",
       "1        30.007  63.480  \n",
       "2        24.380  49.960  \n",
       "3        16.621  26.720  \n",
       "4         6.360  58.560  \n",
       "...         ...     ...  \n",
       "4243      1.849    66.3  \n",
       "4244     12.146    70.2  \n",
       "4245     17.900    49.6  \n",
       "4246      8.316    41.6  \n",
       "4247      5.383    48.7  \n",
       "\n",
       "[4248 rows x 7 columns]"
      ]
     },
     "execution_count": 31,
     "metadata": {},
     "output_type": "execute_result"
    }
   ],
   "source": [
    "suicidio_desempleo_sanidad"
   ]
  },
  {
   "cell_type": "markdown",
   "metadata": {},
   "source": [
    "LIMPIO Y PREPARO EL DATASET DE WORLD HAPPINESS REPORT"
   ]
  },
  {
   "cell_type": "code",
   "execution_count": 32,
   "metadata": {},
   "outputs": [],
   "source": [
    "felicidad = pd.read_csv(\"World Happiness Report.csv\")"
   ]
  },
  {
   "cell_type": "code",
   "execution_count": 33,
   "metadata": {},
   "outputs": [
    {
     "data": {
      "text/plain": [
       "Index(['Country Name', 'Regional Indicator', 'Year', 'Life Ladder',\n",
       "       'Log GDP Per Capita', 'Social Support',\n",
       "       'Healthy Life Expectancy At Birth', 'Freedom To Make Life Choices',\n",
       "       'Generosity', 'Perceptions Of Corruption', 'Positive Affect',\n",
       "       'Negative Affect', 'Confidence In National Government'],\n",
       "      dtype='object')"
      ]
     },
     "execution_count": 33,
     "metadata": {},
     "output_type": "execute_result"
    }
   ],
   "source": [
    "felicidad.columns"
   ]
  },
  {
   "cell_type": "code",
   "execution_count": 34,
   "metadata": {},
   "outputs": [],
   "source": [
    "felicidad = felicidad[[\"Country Name\",\"Year\",\"Social Support\",\"Freedom To Make Life Choices\"]]"
   ]
  },
  {
   "cell_type": "code",
   "execution_count": 35,
   "metadata": {},
   "outputs": [],
   "source": [
    "felicidad.rename(columns={\"Country Name\":\"Country\"},inplace=True)"
   ]
  },
  {
   "cell_type": "code",
   "execution_count": 36,
   "metadata": {},
   "outputs": [
    {
     "name": "stdout",
     "output_type": "stream",
     "text": [
      "<class 'pandas.core.frame.DataFrame'>\n",
      "RangeIndex: 2199 entries, 0 to 2198\n",
      "Data columns (total 4 columns):\n",
      " #   Column                        Non-Null Count  Dtype  \n",
      "---  ------                        --------------  -----  \n",
      " 0   Country                       2199 non-null   object \n",
      " 1   Year                          2199 non-null   int64  \n",
      " 2   Social Support                2186 non-null   float64\n",
      " 3   Freedom To Make Life Choices  2166 non-null   float64\n",
      "dtypes: float64(2), int64(1), object(1)\n",
      "memory usage: 68.8+ KB\n"
     ]
    },
    {
     "data": {
      "text/html": [
       "<div>\n",
       "<style scoped>\n",
       "    .dataframe tbody tr th:only-of-type {\n",
       "        vertical-align: middle;\n",
       "    }\n",
       "\n",
       "    .dataframe tbody tr th {\n",
       "        vertical-align: top;\n",
       "    }\n",
       "\n",
       "    .dataframe thead th {\n",
       "        text-align: right;\n",
       "    }\n",
       "</style>\n",
       "<table border=\"1\" class=\"dataframe\">\n",
       "  <thead>\n",
       "    <tr style=\"text-align: right;\">\n",
       "      <th></th>\n",
       "      <th>Country</th>\n",
       "      <th>Year</th>\n",
       "      <th>Social Support</th>\n",
       "      <th>Freedom To Make Life Choices</th>\n",
       "    </tr>\n",
       "  </thead>\n",
       "  <tbody>\n",
       "    <tr>\n",
       "      <th>0</th>\n",
       "      <td>Afghanistan</td>\n",
       "      <td>2008</td>\n",
       "      <td>0.450662</td>\n",
       "      <td>0.718114</td>\n",
       "    </tr>\n",
       "    <tr>\n",
       "      <th>1</th>\n",
       "      <td>Afghanistan</td>\n",
       "      <td>2009</td>\n",
       "      <td>0.552308</td>\n",
       "      <td>0.678896</td>\n",
       "    </tr>\n",
       "    <tr>\n",
       "      <th>2</th>\n",
       "      <td>Afghanistan</td>\n",
       "      <td>2010</td>\n",
       "      <td>0.539075</td>\n",
       "      <td>0.600127</td>\n",
       "    </tr>\n",
       "    <tr>\n",
       "      <th>3</th>\n",
       "      <td>Afghanistan</td>\n",
       "      <td>2011</td>\n",
       "      <td>0.521104</td>\n",
       "      <td>0.495901</td>\n",
       "    </tr>\n",
       "    <tr>\n",
       "      <th>4</th>\n",
       "      <td>Afghanistan</td>\n",
       "      <td>2012</td>\n",
       "      <td>0.520637</td>\n",
       "      <td>0.530935</td>\n",
       "    </tr>\n",
       "  </tbody>\n",
       "</table>\n",
       "</div>"
      ],
      "text/plain": [
       "       Country  Year  Social Support  Freedom To Make Life Choices\n",
       "0  Afghanistan  2008        0.450662                      0.718114\n",
       "1  Afghanistan  2009        0.552308                      0.678896\n",
       "2  Afghanistan  2010        0.539075                      0.600127\n",
       "3  Afghanistan  2011        0.521104                      0.495901\n",
       "4  Afghanistan  2012        0.520637                      0.530935"
      ]
     },
     "execution_count": 36,
     "metadata": {},
     "output_type": "execute_result"
    }
   ],
   "source": [
    "felicidad.info()\n",
    "felicidad.head()"
   ]
  },
  {
   "cell_type": "code",
   "execution_count": 37,
   "metadata": {},
   "outputs": [],
   "source": [
    "felicidad_ordenada = felicidad.pivot_table(index=['Country', 'Year'],values=['Social Support', 'Freedom To Make Life Choices'],aggfunc='mean')\n"
   ]
  },
  {
   "cell_type": "code",
   "execution_count": 38,
   "metadata": {},
   "outputs": [
    {
     "data": {
      "text/html": [
       "<div>\n",
       "<style scoped>\n",
       "    .dataframe tbody tr th:only-of-type {\n",
       "        vertical-align: middle;\n",
       "    }\n",
       "\n",
       "    .dataframe tbody tr th {\n",
       "        vertical-align: top;\n",
       "    }\n",
       "\n",
       "    .dataframe thead th {\n",
       "        text-align: right;\n",
       "    }\n",
       "</style>\n",
       "<table border=\"1\" class=\"dataframe\">\n",
       "  <thead>\n",
       "    <tr style=\"text-align: right;\">\n",
       "      <th></th>\n",
       "      <th></th>\n",
       "      <th>Freedom To Make Life Choices</th>\n",
       "      <th>Social Support</th>\n",
       "    </tr>\n",
       "    <tr>\n",
       "      <th>Country</th>\n",
       "      <th>Year</th>\n",
       "      <th></th>\n",
       "      <th></th>\n",
       "    </tr>\n",
       "  </thead>\n",
       "  <tbody>\n",
       "    <tr>\n",
       "      <th rowspan=\"5\" valign=\"top\">Afghanistan</th>\n",
       "      <th>2008</th>\n",
       "      <td>0.718114</td>\n",
       "      <td>0.450662</td>\n",
       "    </tr>\n",
       "    <tr>\n",
       "      <th>2009</th>\n",
       "      <td>0.678896</td>\n",
       "      <td>0.552308</td>\n",
       "    </tr>\n",
       "    <tr>\n",
       "      <th>2010</th>\n",
       "      <td>0.600127</td>\n",
       "      <td>0.539075</td>\n",
       "    </tr>\n",
       "    <tr>\n",
       "      <th>2011</th>\n",
       "      <td>0.495901</td>\n",
       "      <td>0.521104</td>\n",
       "    </tr>\n",
       "    <tr>\n",
       "      <th>2012</th>\n",
       "      <td>0.530935</td>\n",
       "      <td>0.520637</td>\n",
       "    </tr>\n",
       "    <tr>\n",
       "      <th>...</th>\n",
       "      <th>...</th>\n",
       "      <td>...</td>\n",
       "      <td>...</td>\n",
       "    </tr>\n",
       "    <tr>\n",
       "      <th rowspan=\"5\" valign=\"top\">Zimbabwe</th>\n",
       "      <th>2018</th>\n",
       "      <td>0.762675</td>\n",
       "      <td>0.775388</td>\n",
       "    </tr>\n",
       "    <tr>\n",
       "      <th>2019</th>\n",
       "      <td>0.631908</td>\n",
       "      <td>0.759162</td>\n",
       "    </tr>\n",
       "    <tr>\n",
       "      <th>2020</th>\n",
       "      <td>0.643303</td>\n",
       "      <td>0.717243</td>\n",
       "    </tr>\n",
       "    <tr>\n",
       "      <th>2021</th>\n",
       "      <td>0.667636</td>\n",
       "      <td>0.685151</td>\n",
       "    </tr>\n",
       "    <tr>\n",
       "      <th>2022</th>\n",
       "      <td>0.651987</td>\n",
       "      <td>0.666172</td>\n",
       "    </tr>\n",
       "  </tbody>\n",
       "</table>\n",
       "<p>2193 rows × 2 columns</p>\n",
       "</div>"
      ],
      "text/plain": [
       "                  Freedom To Make Life Choices  Social Support\n",
       "Country     Year                                              \n",
       "Afghanistan 2008                      0.718114        0.450662\n",
       "            2009                      0.678896        0.552308\n",
       "            2010                      0.600127        0.539075\n",
       "            2011                      0.495901        0.521104\n",
       "            2012                      0.530935        0.520637\n",
       "...                                        ...             ...\n",
       "Zimbabwe    2018                      0.762675        0.775388\n",
       "            2019                      0.631908        0.759162\n",
       "            2020                      0.643303        0.717243\n",
       "            2021                      0.667636        0.685151\n",
       "            2022                      0.651987        0.666172\n",
       "\n",
       "[2193 rows x 2 columns]"
      ]
     },
     "execution_count": 38,
     "metadata": {},
     "output_type": "execute_result"
    }
   ],
   "source": [
    "felicidad_ordenada"
   ]
  },
  {
   "cell_type": "markdown",
   "metadata": {},
   "source": [
    "LIMPIO Y PREPARO EL DATASET DE PREVALENCIA DE LA DEPRESIÓN"
   ]
  },
  {
   "cell_type": "code",
   "execution_count": 39,
   "metadata": {},
   "outputs": [],
   "source": [
    "depresion = pd.read_csv(\"depresion.csv\")"
   ]
  },
  {
   "cell_type": "code",
   "execution_count": 40,
   "metadata": {},
   "outputs": [
    {
     "data": {
      "text/plain": [
       "Index(['country_name', ' 1990', '1991', '1992', '1993', '1994', '1995', '1996',\n",
       "       '1997', '1998', '1999', '2000', '2001', '2002', '2003', '2004', '2005',\n",
       "       '2006', '2007', '2008', '2009', '2010', '2011', '2012', '2013', '2014',\n",
       "       '2015', '2016', 'Unnamed: 28'],\n",
       "      dtype='object')"
      ]
     },
     "execution_count": 40,
     "metadata": {},
     "output_type": "execute_result"
    }
   ],
   "source": [
    "depresion.columns"
   ]
  },
  {
   "cell_type": "code",
   "execution_count": 41,
   "metadata": {},
   "outputs": [],
   "source": [
    "for columna in depresion.columns:\n",
    "    columna.strip()\n",
    "    depresion.rename(columns= {columna : columna.strip()},inplace = True)"
   ]
  },
  {
   "cell_type": "code",
   "execution_count": 42,
   "metadata": {},
   "outputs": [],
   "source": [
    "depresion.drop(columns={\"1990\",'Unnamed: 28'},inplace=True)"
   ]
  },
  {
   "cell_type": "code",
   "execution_count": 43,
   "metadata": {},
   "outputs": [
    {
     "name": "stdout",
     "output_type": "stream",
     "text": [
      "<class 'pandas.core.frame.DataFrame'>\n",
      "RangeIndex: 233 entries, 0 to 232\n",
      "Data columns (total 27 columns):\n",
      " #   Column        Non-Null Count  Dtype  \n",
      "---  ------        --------------  -----  \n",
      " 0   country_name  233 non-null    object \n",
      " 1   1991          232 non-null    float64\n",
      " 2   1992          232 non-null    float64\n",
      " 3   1993          232 non-null    float64\n",
      " 4   1994          232 non-null    float64\n",
      " 5   1995          232 non-null    float64\n",
      " 6   1996          232 non-null    float64\n",
      " 7   1997          232 non-null    float64\n",
      " 8   1998          232 non-null    float64\n",
      " 9   1999          232 non-null    float64\n",
      " 10  2000          232 non-null    float64\n",
      " 11  2001          232 non-null    float64\n",
      " 12  2002          232 non-null    float64\n",
      " 13  2003          232 non-null    float64\n",
      " 14  2004          232 non-null    float64\n",
      " 15  2005          232 non-null    float64\n",
      " 16  2006          232 non-null    float64\n",
      " 17  2007          232 non-null    float64\n",
      " 18  2008          232 non-null    float64\n",
      " 19  2009          232 non-null    float64\n",
      " 20  2010          232 non-null    float64\n",
      " 21  2011          232 non-null    float64\n",
      " 22  2012          232 non-null    float64\n",
      " 23  2013          232 non-null    float64\n",
      " 24  2014          232 non-null    float64\n",
      " 25  2015          232 non-null    float64\n",
      " 26  2016          232 non-null    float64\n",
      "dtypes: float64(26), object(1)\n",
      "memory usage: 49.3+ KB\n"
     ]
    }
   ],
   "source": [
    "depresion.info()"
   ]
  },
  {
   "cell_type": "code",
   "execution_count": 44,
   "metadata": {},
   "outputs": [],
   "source": [
    "depresion.rename(columns={\"country_name\":\"Country\"},inplace=True)"
   ]
  },
  {
   "cell_type": "code",
   "execution_count": 45,
   "metadata": {},
   "outputs": [],
   "source": [
    "depresion.dropna(thresh=20,inplace=True)"
   ]
  },
  {
   "cell_type": "code",
   "execution_count": 46,
   "metadata": {},
   "outputs": [],
   "source": [
    "df_cont = pd.merge(depresion,continentes,on= \"Country\",how = \"outer\")\n",
    "depresion_final = pd.merge(df_cont,poblacion,on=\"Country\",how= \"outer\")"
   ]
  },
  {
   "cell_type": "code",
   "execution_count": 47,
   "metadata": {},
   "outputs": [],
   "source": [
    "depresion_final.dropna(thresh=28,inplace=True)"
   ]
  },
  {
   "cell_type": "code",
   "execution_count": 48,
   "metadata": {},
   "outputs": [],
   "source": [
    "depresion_long = depresion_final.melt(id_vars=['Country', 'Continent'],var_name='año',value_name='depresion')"
   ]
  },
  {
   "cell_type": "markdown",
   "metadata": {},
   "source": [
    "UNO LA ÚLTIMA VARIABLE A EL DATASET CON LAS VARIABLES SUICIDIOS SANIDAD Y DESEMPLEO"
   ]
  },
  {
   "cell_type": "code",
   "execution_count": 49,
   "metadata": {},
   "outputs": [],
   "source": [
    "variables = pd.merge(suicidio_desempleo_sanidad,depresion_long,how=\"inner\",on=[\"Country\",\"Continent\",\"año\"])"
   ]
  },
  {
   "cell_type": "code",
   "execution_count": 50,
   "metadata": {},
   "outputs": [],
   "source": [
    "variables[\"sanidad\"] = variables[\"sanidad\"].astype(float)"
   ]
  },
  {
   "cell_type": "markdown",
   "metadata": {},
   "source": [
    "YA TENGO LOS DOS DATA SETS CON LOS QUE VOY A TRABAJAR LIMPIOS: VARIABLES Y WORLD HAPPINESS REPORT"
   ]
  },
  {
   "cell_type": "code",
   "execution_count": 51,
   "metadata": {},
   "outputs": [
    {
     "name": "stdout",
     "output_type": "stream",
     "text": [
      "<class 'pandas.core.frame.DataFrame'>\n",
      "RangeIndex: 4248 entries, 0 to 4247\n",
      "Data columns (total 8 columns):\n",
      " #   Column      Non-Null Count  Dtype  \n",
      "---  ------      --------------  -----  \n",
      " 0   Country     4248 non-null   object \n",
      " 1   Continent   4248 non-null   object \n",
      " 2   Population  4248 non-null   float64\n",
      " 3   año         4248 non-null   object \n",
      " 4   suicidios   4248 non-null   float64\n",
      " 5   desempleo   4248 non-null   float64\n",
      " 6   sanidad     4248 non-null   float64\n",
      " 7   depresion   4248 non-null   float64\n",
      "dtypes: float64(5), object(3)\n",
      "memory usage: 265.6+ KB\n"
     ]
    }
   ],
   "source": [
    "variables.info()"
   ]
  },
  {
   "cell_type": "code",
   "execution_count": 52,
   "metadata": {},
   "outputs": [
    {
     "name": "stdout",
     "output_type": "stream",
     "text": [
      "<class 'pandas.core.frame.DataFrame'>\n",
      "MultiIndex: 2193 entries, ('Afghanistan', np.int64(2008)) to ('Zimbabwe', np.int64(2022))\n",
      "Data columns (total 2 columns):\n",
      " #   Column                        Non-Null Count  Dtype  \n",
      "---  ------                        --------------  -----  \n",
      " 0   Freedom To Make Life Choices  2166 non-null   float64\n",
      " 1   Social Support                2186 non-null   float64\n",
      "dtypes: float64(2)\n",
      "memory usage: 46.3+ KB\n"
     ]
    }
   ],
   "source": [
    "felicidad_ordenada.info()"
   ]
  },
  {
   "cell_type": "markdown",
   "metadata": {},
   "source": [
    "ESTADÍSTICOS Y GRÁFICOS:"
   ]
  },
  {
   "cell_type": "markdown",
   "metadata": {},
   "source": [
    "HIPÓTESIS 1 : Los diagnósticos de depresión han ido aumentado progresivamente a nivel global desde la década de 1990"
   ]
  },
  {
   "cell_type": "code",
   "execution_count": 53,
   "metadata": {},
   "outputs": [
    {
     "data": {
      "text/html": [
       "<div>\n",
       "<style scoped>\n",
       "    .dataframe tbody tr th:only-of-type {\n",
       "        vertical-align: middle;\n",
       "    }\n",
       "\n",
       "    .dataframe tbody tr th {\n",
       "        vertical-align: top;\n",
       "    }\n",
       "\n",
       "    .dataframe thead th {\n",
       "        text-align: right;\n",
       "    }\n",
       "</style>\n",
       "<table border=\"1\" class=\"dataframe\">\n",
       "  <thead>\n",
       "    <tr style=\"text-align: right;\">\n",
       "      <th></th>\n",
       "      <th></th>\n",
       "      <th>depresion</th>\n",
       "    </tr>\n",
       "    <tr>\n",
       "      <th>Continent</th>\n",
       "      <th>año</th>\n",
       "      <th></th>\n",
       "    </tr>\n",
       "  </thead>\n",
       "  <tbody>\n",
       "    <tr>\n",
       "      <th rowspan=\"5\" valign=\"top\">Africa</th>\n",
       "      <th>1992</th>\n",
       "      <td>3.064235</td>\n",
       "    </tr>\n",
       "    <tr>\n",
       "      <th>1993</th>\n",
       "      <td>3.069333</td>\n",
       "    </tr>\n",
       "    <tr>\n",
       "      <th>1994</th>\n",
       "      <td>3.077510</td>\n",
       "    </tr>\n",
       "    <tr>\n",
       "      <th>1995</th>\n",
       "      <td>3.092020</td>\n",
       "    </tr>\n",
       "    <tr>\n",
       "      <th>1996</th>\n",
       "      <td>3.095176</td>\n",
       "    </tr>\n",
       "    <tr>\n",
       "      <th>...</th>\n",
       "      <th>...</th>\n",
       "      <td>...</td>\n",
       "    </tr>\n",
       "    <tr>\n",
       "      <th rowspan=\"5\" valign=\"top\">South America</th>\n",
       "      <th>2011</th>\n",
       "      <td>3.463417</td>\n",
       "    </tr>\n",
       "    <tr>\n",
       "      <th>2012</th>\n",
       "      <td>3.479000</td>\n",
       "    </tr>\n",
       "    <tr>\n",
       "      <th>2013</th>\n",
       "      <td>3.495000</td>\n",
       "    </tr>\n",
       "    <tr>\n",
       "      <th>2014</th>\n",
       "      <td>3.513333</td>\n",
       "    </tr>\n",
       "    <tr>\n",
       "      <th>2015</th>\n",
       "      <td>3.529917</td>\n",
       "    </tr>\n",
       "  </tbody>\n",
       "</table>\n",
       "<p>168 rows × 1 columns</p>\n",
       "</div>"
      ],
      "text/plain": [
       "                    depresion\n",
       "Continent     año            \n",
       "Africa        1992   3.064235\n",
       "              1993   3.069333\n",
       "              1994   3.077510\n",
       "              1995   3.092020\n",
       "              1996   3.095176\n",
       "...                       ...\n",
       "South America 2011   3.463417\n",
       "              2012   3.479000\n",
       "              2013   3.495000\n",
       "              2014   3.513333\n",
       "              2015   3.529917\n",
       "\n",
       "[168 rows x 1 columns]"
      ]
     },
     "execution_count": 53,
     "metadata": {},
     "output_type": "execute_result"
    }
   ],
   "source": [
    "variables.groupby([\"Continent\",\"año\"])[[\"depresion\"]].mean()"
   ]
  },
  {
   "cell_type": "markdown",
   "metadata": {},
   "source": [
    "Esto me proporciona una media por continente con los valores de los paises pero sin tener en cuenta la poblacion de cada uno. Utilizaré otro método para obtener una media relativa"
   ]
  },
  {
   "cell_type": "code",
   "execution_count": 66,
   "metadata": {},
   "outputs": [],
   "source": [
    "variables[\"personas depresion\"] = (variables[\"depresion\"]*variables[\"Population\"]/100)\n",
    "variables[\"total personas continente\"]=variables.groupby([\"año\",\"Continent\"])[\"Population\"].transform(\"sum\")\n",
    "variables[\"peso_ponderacion\"] = variables[\"Population\"]/variables[\"total personas continente\"] \n",
    "variables[\"depresion ponderada\"] = variables[\"personas depresion\"]*variables[\"peso_ponderacion\"]\n",
    "variables[\"porcentaje depresion\"] = (variables.groupby([\"año\",\"Continent\"])[\"personas depresion\"].transform(\"sum\")/variables[\"total personas continente\"])*100"
   ]
  },
  {
   "cell_type": "code",
   "execution_count": null,
   "metadata": {},
   "outputs": [],
   "source": [
    "variables.groupby([\"año\",\"Continent\"])[\"Population\"].transform(\"sum\")"
   ]
  },
  {
   "cell_type": "code",
   "execution_count": 95,
   "metadata": {},
   "outputs": [],
   "source": [
    "años = [\"1992\",\"1995\",\"2000\",\"2005\",\"2010\",\"2015\"]\n",
    "porcentajes_por_años = variables[variables[\"año\"].isin(años)][[\"porcentaje depresion\",\"Continent\",\"año\"]]\n",
    "resultados = porcentajes_por_años.groupby([\"Continent\",\"año\"])[\"porcentaje depresion\"].mean()"
   ]
  },
  {
   "cell_type": "code",
   "execution_count": null,
   "metadata": {},
   "outputs": [],
   "source": [
    "resultados = pd.DataFrame(resultados)\n",
    "resultados"
   ]
  },
  {
   "cell_type": "code",
   "execution_count": 114,
   "metadata": {},
   "outputs": [
    {
     "data": {
      "text/html": [
       "<div>\n",
       "<style scoped>\n",
       "    .dataframe tbody tr th:only-of-type {\n",
       "        vertical-align: middle;\n",
       "    }\n",
       "\n",
       "    .dataframe tbody tr th {\n",
       "        vertical-align: top;\n",
       "    }\n",
       "\n",
       "    .dataframe thead th {\n",
       "        text-align: right;\n",
       "    }\n",
       "</style>\n",
       "<table border=\"1\" class=\"dataframe\">\n",
       "  <thead>\n",
       "    <tr style=\"text-align: right;\">\n",
       "      <th>año</th>\n",
       "      <th>1992</th>\n",
       "      <th>1995</th>\n",
       "      <th>2000</th>\n",
       "      <th>2005</th>\n",
       "      <th>2010</th>\n",
       "      <th>2015</th>\n",
       "    </tr>\n",
       "    <tr>\n",
       "      <th>Continent</th>\n",
       "      <th></th>\n",
       "      <th></th>\n",
       "      <th></th>\n",
       "      <th></th>\n",
       "      <th></th>\n",
       "      <th></th>\n",
       "    </tr>\n",
       "  </thead>\n",
       "  <tbody>\n",
       "    <tr>\n",
       "      <th>Africa</th>\n",
       "      <td>3.092726</td>\n",
       "      <td>3.116611</td>\n",
       "      <td>3.167933</td>\n",
       "      <td>3.183837</td>\n",
       "      <td>3.196640</td>\n",
       "      <td>3.198226</td>\n",
       "    </tr>\n",
       "    <tr>\n",
       "      <th>Asia</th>\n",
       "      <td>3.178740</td>\n",
       "      <td>3.234092</td>\n",
       "      <td>3.348817</td>\n",
       "      <td>3.511057</td>\n",
       "      <td>3.585956</td>\n",
       "      <td>3.696958</td>\n",
       "    </tr>\n",
       "    <tr>\n",
       "      <th>Australia</th>\n",
       "      <td>4.388288</td>\n",
       "      <td>4.480230</td>\n",
       "      <td>4.482826</td>\n",
       "      <td>4.608488</td>\n",
       "      <td>4.586876</td>\n",
       "      <td>4.517985</td>\n",
       "    </tr>\n",
       "    <tr>\n",
       "      <th>Europe</th>\n",
       "      <td>4.503366</td>\n",
       "      <td>4.499122</td>\n",
       "      <td>4.501684</td>\n",
       "      <td>4.478575</td>\n",
       "      <td>4.519870</td>\n",
       "      <td>4.522966</td>\n",
       "    </tr>\n",
       "    <tr>\n",
       "      <th>Europe/Asia</th>\n",
       "      <td>4.125233</td>\n",
       "      <td>4.240131</td>\n",
       "      <td>4.390347</td>\n",
       "      <td>4.448885</td>\n",
       "      <td>4.392574</td>\n",
       "      <td>4.427046</td>\n",
       "    </tr>\n",
       "    <tr>\n",
       "      <th>North America</th>\n",
       "      <td>4.215517</td>\n",
       "      <td>4.244367</td>\n",
       "      <td>4.404154</td>\n",
       "      <td>4.432546</td>\n",
       "      <td>4.376031</td>\n",
       "      <td>4.422848</td>\n",
       "    </tr>\n",
       "    <tr>\n",
       "      <th>South America</th>\n",
       "      <td>3.098492</td>\n",
       "      <td>3.174157</td>\n",
       "      <td>3.602922</td>\n",
       "      <td>3.723705</td>\n",
       "      <td>3.447097</td>\n",
       "      <td>3.449449</td>\n",
       "    </tr>\n",
       "  </tbody>\n",
       "</table>\n",
       "</div>"
      ],
      "text/plain": [
       "año                1992      1995      2000      2005      2010      2015\n",
       "Continent                                                                \n",
       "Africa         3.092726  3.116611  3.167933  3.183837  3.196640  3.198226\n",
       "Asia           3.178740  3.234092  3.348817  3.511057  3.585956  3.696958\n",
       "Australia      4.388288  4.480230  4.482826  4.608488  4.586876  4.517985\n",
       "Europe         4.503366  4.499122  4.501684  4.478575  4.519870  4.522966\n",
       "Europe/Asia    4.125233  4.240131  4.390347  4.448885  4.392574  4.427046\n",
       "North America  4.215517  4.244367  4.404154  4.432546  4.376031  4.422848\n",
       "South America  3.098492  3.174157  3.602922  3.723705  3.447097  3.449449"
      ]
     },
     "execution_count": 114,
     "metadata": {},
     "output_type": "execute_result"
    }
   ],
   "source": [
    "tabla_depresion = resultados.pivot_table(index=\"Continent\",columns=\"año\",values=\"porcentaje depresion\")\n",
    "tabla_depresion"
   ]
  },
  {
   "cell_type": "code",
   "execution_count": null,
   "metadata": {},
   "outputs": [],
   "source": [
    "tabla_larga = tabla_depresion.reset_index().melt(id_vars=\"Continent\", var_name=\"Año\",value_name=\"Porcentaje depresion\")\n",
    "tabla_larga"
   ]
  },
  {
   "cell_type": "markdown",
   "metadata": {},
   "source": [
    "TABLA HIPÓTESIS 1, CONTINENTES CON MÁS PREVALENCIA"
   ]
  },
  {
   "cell_type": "code",
   "execution_count": null,
   "metadata": {},
   "outputs": [
    {
     "data": {
      "text/plain": [
       "(4.1, 4.65)"
      ]
     },
     "execution_count": 165,
     "metadata": {},
     "output_type": "execute_result"
    },
    {
     "data": {
      "image/png": "[encoded data removed]",
      "text/plain": [
       "<Figure size 640x480 with 1 Axes>"
      ]
     },
     "metadata": {},
     "output_type": "display_data"
    }
   ],
   "source": [
    "lista_colores =[\"Brown\",\"Pink\",\"Purple\",\"Blue\",\"orange\",\"Red\",\"yellow\"]\n",
    "sns.scatterplot(data = tabla_larga,x = \"Año\",y = \"Porcentaje depresion\",hue = \"Continent\", palette = lista_colores,legend=False, markers = [\"o\",\"s\",\"D\",\"^\",\"v\",\"p\",\"*\"], s = 100)\n",
    "sns.lineplot(data = tabla_larga,x = \"Año\",y = \"Porcentaje depresion\",hue = \"Continent\", palette = lista_colores,linestyle=\"--\",linewidth = 1.5,alpha =0.8)\n",
    "plt.legend(bbox_to_anchor=(-0.16,1.033))\n",
    "plt.title(\"Evolución del porcentaje de depresión por continente (1995-2015)\",fontsize = 14, pad = 20)\n",
    "plt.grid(axis =\"y\", linestyle= '--',alpha = 0.4)\n",
    "plt. ylim(4.1,4.65)\n"
   ]
  },
  {
   "cell_type": "markdown",
   "metadata": {},
   "source": [
    "TABLA HIPÓTESIS 1, CONTINENTES MENOS PREVALENCIA"
   ]
  },
  {
   "cell_type": "code",
   "execution_count": 164,
   "metadata": {},
   "outputs": [
    {
     "data": {
      "text/plain": [
       "(3.05, 3.75)"
      ]
     },
     "execution_count": 164,
     "metadata": {},
     "output_type": "execute_result"
    },
    {
     "data": {
      "image/png": "[encoded data removed]",
      "text/plain": [
       "<Figure size 640x480 with 1 Axes>"
      ]
     },
     "metadata": {},
     "output_type": "display_data"
    }
   ],
   "source": [
    "lista_colores =[\"Brown\",\"Pink\",\"Purple\",\"Blue\",\"orange\",\"Red\",\"yellow\"]\n",
    "sns.scatterplot(data = tabla_larga,x = \"Año\",y = \"Porcentaje depresion\",hue = \"Continent\", palette = lista_colores,legend=False, markers = [\"o\",\"s\",\"D\",\"^\",\"v\",\"p\",\"*\"], s = 100)\n",
    "sns.lineplot(data = tabla_larga,x = \"Año\",y = \"Porcentaje depresion\",hue = \"Continent\", palette = lista_colores,linestyle=\"--\",linewidth = 1.5,alpha =0.8)\n",
    "plt.legend(bbox_to_anchor=(-0.16,1.033))\n",
    "plt.title(\"Evolución del porcentaje de depresión por continente (1995-2015)\",fontsize = 14, pad = 20)\n",
    "plt.grid(axis =\"y\", linestyle= '--',alpha = 0.4)\n",
    "plt.ylim(3.05,3.75)"
   ]
  },
  {
   "cell_type": "markdown",
   "metadata": {},
   "source": [
    "HIPÓTESIS 2: Los países con tasas más altas de trastornos depresivos serán también los países con los datos más altos de suicidio. "
   ]
  },
  {
   "cell_type": "code",
   "execution_count": null,
   "metadata": {},
   "outputs": [],
   "source": [
    "variables[\"suicidios totales\"] = (variables[\"Population\"]/100000)*variables[\"suicidios\"]\n",
    "variables"
   ]
  },
  {
   "cell_type": "code",
   "execution_count": null,
   "metadata": {},
   "outputs": [],
   "source": [
    "variables.groupby([\"año\"])[[\"depresion\"]].idxmax()"
   ]
  },
  {
   "cell_type": "code",
   "execution_count": 188,
   "metadata": {},
   "outputs": [
    {
     "data": {
      "text/html": [
       "<div>\n",
       "<style scoped>\n",
       "    .dataframe tbody tr th:only-of-type {\n",
       "        vertical-align: middle;\n",
       "    }\n",
       "\n",
       "    .dataframe tbody tr th {\n",
       "        vertical-align: top;\n",
       "    }\n",
       "\n",
       "    .dataframe thead th {\n",
       "        text-align: right;\n",
       "    }\n",
       "</style>\n",
       "<table border=\"1\" class=\"dataframe\">\n",
       "  <thead>\n",
       "    <tr style=\"text-align: right;\">\n",
       "      <th></th>\n",
       "      <th>depresion</th>\n",
       "      <th>Country</th>\n",
       "      <th>año</th>\n",
       "      <th>suicidios</th>\n",
       "    </tr>\n",
       "  </thead>\n",
       "  <tbody>\n",
       "    <tr>\n",
       "      <th>0</th>\n",
       "      <td>3.190</td>\n",
       "      <td>Afghanistan</td>\n",
       "      <td>1992</td>\n",
       "      <td>6.979</td>\n",
       "    </tr>\n",
       "    <tr>\n",
       "      <th>1</th>\n",
       "      <td>2.075</td>\n",
       "      <td>Albania</td>\n",
       "      <td>1992</td>\n",
       "      <td>3.767</td>\n",
       "    </tr>\n",
       "    <tr>\n",
       "      <th>2</th>\n",
       "      <td>3.110</td>\n",
       "      <td>Algeria</td>\n",
       "      <td>1992</td>\n",
       "      <td>4.106</td>\n",
       "    </tr>\n",
       "    <tr>\n",
       "      <th>3</th>\n",
       "      <td>3.310</td>\n",
       "      <td>Angola</td>\n",
       "      <td>1992</td>\n",
       "      <td>8.817</td>\n",
       "    </tr>\n",
       "    <tr>\n",
       "      <th>4</th>\n",
       "      <td>3.681</td>\n",
       "      <td>Argentina</td>\n",
       "      <td>1992</td>\n",
       "      <td>10.684</td>\n",
       "    </tr>\n",
       "    <tr>\n",
       "      <th>...</th>\n",
       "      <td>...</td>\n",
       "      <td>...</td>\n",
       "      <td>...</td>\n",
       "      <td>...</td>\n",
       "    </tr>\n",
       "    <tr>\n",
       "      <th>4243</th>\n",
       "      <td>3.183</td>\n",
       "      <td>Vietnam</td>\n",
       "      <td>2015</td>\n",
       "      <td>7.675</td>\n",
       "    </tr>\n",
       "    <tr>\n",
       "      <th>4244</th>\n",
       "      <td>3.990</td>\n",
       "      <td>Virgin Islands (U.S.)</td>\n",
       "      <td>2015</td>\n",
       "      <td>8.707</td>\n",
       "    </tr>\n",
       "    <tr>\n",
       "      <th>4245</th>\n",
       "      <td>3.340</td>\n",
       "      <td>Yemen</td>\n",
       "      <td>2015</td>\n",
       "      <td>4.709</td>\n",
       "    </tr>\n",
       "    <tr>\n",
       "      <th>4246</th>\n",
       "      <td>2.711</td>\n",
       "      <td>Zambia</td>\n",
       "      <td>2015</td>\n",
       "      <td>6.563</td>\n",
       "    </tr>\n",
       "    <tr>\n",
       "      <th>4247</th>\n",
       "      <td>2.447</td>\n",
       "      <td>Zimbabwe</td>\n",
       "      <td>2015</td>\n",
       "      <td>18.222</td>\n",
       "    </tr>\n",
       "  </tbody>\n",
       "</table>\n",
       "<p>1062 rows × 4 columns</p>\n",
       "</div>"
      ],
      "text/plain": [
       "      depresion                Country   año  suicidios\n",
       "0         3.190            Afghanistan  1992      6.979\n",
       "1         2.075                Albania  1992      3.767\n",
       "2         3.110                Algeria  1992      4.106\n",
       "3         3.310                 Angola  1992      8.817\n",
       "4         3.681              Argentina  1992     10.684\n",
       "...         ...                    ...   ...        ...\n",
       "4243      3.183                Vietnam  2015      7.675\n",
       "4244      3.990  Virgin Islands (U.S.)  2015      8.707\n",
       "4245      3.340                  Yemen  2015      4.709\n",
       "4246      2.711                 Zambia  2015      6.563\n",
       "4247      2.447               Zimbabwe  2015     18.222\n",
       "\n",
       "[1062 rows x 4 columns]"
      ]
     },
     "execution_count": 188,
     "metadata": {},
     "output_type": "execute_result"
    }
   ],
   "source": [
    "suicidios_depresion = variables[variables[\"año\"].isin(años)][[\"depresion\",\"Country\",\"año\",\"suicidios\"]]\n",
    "suicidios_depresion"
   ]
  },
  {
   "cell_type": "code",
   "execution_count": 199,
   "metadata": {},
   "outputs": [],
   "source": [
    "tabla_relacion_suicidios_depresion = suicidios_depresion.groupby([\"Country\",\"año\"])[[\"depresion\",\"suicidios\"]].mean()"
   ]
  },
  {
   "cell_type": "code",
   "execution_count": 213,
   "metadata": {},
   "outputs": [
    {
     "data": {
      "text/html": [
       "<div>\n",
       "<style scoped>\n",
       "    .dataframe tbody tr th:only-of-type {\n",
       "        vertical-align: middle;\n",
       "    }\n",
       "\n",
       "    .dataframe tbody tr th {\n",
       "        vertical-align: top;\n",
       "    }\n",
       "\n",
       "    .dataframe thead tr th {\n",
       "        text-align: left;\n",
       "    }\n",
       "\n",
       "    .dataframe thead tr:last-of-type th {\n",
       "        text-align: right;\n",
       "    }\n",
       "</style>\n",
       "<table border=\"1\" class=\"dataframe\">\n",
       "  <thead>\n",
       "    <tr>\n",
       "      <th></th>\n",
       "      <th colspan=\"6\" halign=\"left\">depresion</th>\n",
       "      <th colspan=\"6\" halign=\"left\">suicidios</th>\n",
       "    </tr>\n",
       "    <tr>\n",
       "      <th>año</th>\n",
       "      <th>1992</th>\n",
       "      <th>1995</th>\n",
       "      <th>2000</th>\n",
       "      <th>2005</th>\n",
       "      <th>2010</th>\n",
       "      <th>2015</th>\n",
       "      <th>1992</th>\n",
       "      <th>1995</th>\n",
       "      <th>2000</th>\n",
       "      <th>2005</th>\n",
       "      <th>2010</th>\n",
       "      <th>2015</th>\n",
       "    </tr>\n",
       "    <tr>\n",
       "      <th>Country</th>\n",
       "      <th></th>\n",
       "      <th></th>\n",
       "      <th></th>\n",
       "      <th></th>\n",
       "      <th></th>\n",
       "      <th></th>\n",
       "      <th></th>\n",
       "      <th></th>\n",
       "      <th></th>\n",
       "      <th></th>\n",
       "      <th></th>\n",
       "      <th></th>\n",
       "    </tr>\n",
       "  </thead>\n",
       "  <tbody>\n",
       "    <tr>\n",
       "      <th>Afghanistan</th>\n",
       "      <td>3.190</td>\n",
       "      <td>3.236</td>\n",
       "      <td>3.196</td>\n",
       "      <td>3.212</td>\n",
       "      <td>3.206</td>\n",
       "      <td>3.296</td>\n",
       "      <td>6.979</td>\n",
       "      <td>6.766</td>\n",
       "      <td>6.536</td>\n",
       "      <td>6.008</td>\n",
       "      <td>5.542</td>\n",
       "      <td>5.289</td>\n",
       "    </tr>\n",
       "    <tr>\n",
       "      <th>Albania</th>\n",
       "      <td>2.075</td>\n",
       "      <td>2.114</td>\n",
       "      <td>2.236</td>\n",
       "      <td>2.415</td>\n",
       "      <td>2.565</td>\n",
       "      <td>2.710</td>\n",
       "      <td>3.767</td>\n",
       "      <td>3.743</td>\n",
       "      <td>4.706</td>\n",
       "      <td>5.733</td>\n",
       "      <td>5.717</td>\n",
       "      <td>5.887</td>\n",
       "    </tr>\n",
       "    <tr>\n",
       "      <th>Algeria</th>\n",
       "      <td>3.110</td>\n",
       "      <td>3.158</td>\n",
       "      <td>3.281</td>\n",
       "      <td>3.468</td>\n",
       "      <td>3.592</td>\n",
       "      <td>3.740</td>\n",
       "      <td>4.106</td>\n",
       "      <td>4.491</td>\n",
       "      <td>4.947</td>\n",
       "      <td>4.894</td>\n",
       "      <td>4.591</td>\n",
       "      <td>4.392</td>\n",
       "    </tr>\n",
       "    <tr>\n",
       "      <th>Angola</th>\n",
       "      <td>3.310</td>\n",
       "      <td>3.334</td>\n",
       "      <td>3.299</td>\n",
       "      <td>3.255</td>\n",
       "      <td>3.229</td>\n",
       "      <td>3.212</td>\n",
       "      <td>8.817</td>\n",
       "      <td>8.982</td>\n",
       "      <td>8.322</td>\n",
       "      <td>7.505</td>\n",
       "      <td>6.741</td>\n",
       "      <td>6.242</td>\n",
       "    </tr>\n",
       "    <tr>\n",
       "      <th>Argentina</th>\n",
       "      <td>3.681</td>\n",
       "      <td>3.748</td>\n",
       "      <td>3.820</td>\n",
       "      <td>3.841</td>\n",
       "      <td>3.842</td>\n",
       "      <td>3.875</td>\n",
       "      <td>10.684</td>\n",
       "      <td>11.541</td>\n",
       "      <td>12.498</td>\n",
       "      <td>11.256</td>\n",
       "      <td>11.343</td>\n",
       "      <td>11.255</td>\n",
       "    </tr>\n",
       "    <tr>\n",
       "      <th>...</th>\n",
       "      <td>...</td>\n",
       "      <td>...</td>\n",
       "      <td>...</td>\n",
       "      <td>...</td>\n",
       "      <td>...</td>\n",
       "      <td>...</td>\n",
       "      <td>...</td>\n",
       "      <td>...</td>\n",
       "      <td>...</td>\n",
       "      <td>...</td>\n",
       "      <td>...</td>\n",
       "      <td>...</td>\n",
       "    </tr>\n",
       "    <tr>\n",
       "      <th>Vietnam</th>\n",
       "      <td>2.584</td>\n",
       "      <td>2.632</td>\n",
       "      <td>2.740</td>\n",
       "      <td>2.893</td>\n",
       "      <td>3.058</td>\n",
       "      <td>3.183</td>\n",
       "      <td>7.578</td>\n",
       "      <td>7.624</td>\n",
       "      <td>7.396</td>\n",
       "      <td>7.500</td>\n",
       "      <td>7.541</td>\n",
       "      <td>7.675</td>\n",
       "    </tr>\n",
       "    <tr>\n",
       "      <th>Virgin Islands (U.S.)</th>\n",
       "      <td>3.264</td>\n",
       "      <td>3.371</td>\n",
       "      <td>3.481</td>\n",
       "      <td>3.701</td>\n",
       "      <td>3.880</td>\n",
       "      <td>3.990</td>\n",
       "      <td>6.252</td>\n",
       "      <td>6.426</td>\n",
       "      <td>6.848</td>\n",
       "      <td>6.881</td>\n",
       "      <td>7.736</td>\n",
       "      <td>8.707</td>\n",
       "    </tr>\n",
       "    <tr>\n",
       "      <th>Yemen</th>\n",
       "      <td>3.010</td>\n",
       "      <td>3.059</td>\n",
       "      <td>3.064</td>\n",
       "      <td>3.161</td>\n",
       "      <td>3.259</td>\n",
       "      <td>3.340</td>\n",
       "      <td>4.612</td>\n",
       "      <td>4.839</td>\n",
       "      <td>4.952</td>\n",
       "      <td>4.900</td>\n",
       "      <td>4.762</td>\n",
       "      <td>4.709</td>\n",
       "    </tr>\n",
       "    <tr>\n",
       "      <th>Zambia</th>\n",
       "      <td>2.681</td>\n",
       "      <td>2.716</td>\n",
       "      <td>2.655</td>\n",
       "      <td>2.652</td>\n",
       "      <td>2.617</td>\n",
       "      <td>2.711</td>\n",
       "      <td>8.723</td>\n",
       "      <td>9.364</td>\n",
       "      <td>8.213</td>\n",
       "      <td>6.851</td>\n",
       "      <td>6.542</td>\n",
       "      <td>6.563</td>\n",
       "    </tr>\n",
       "    <tr>\n",
       "      <th>Zimbabwe</th>\n",
       "      <td>2.333</td>\n",
       "      <td>2.382</td>\n",
       "      <td>2.366</td>\n",
       "      <td>2.393</td>\n",
       "      <td>2.391</td>\n",
       "      <td>2.447</td>\n",
       "      <td>10.088</td>\n",
       "      <td>12.687</td>\n",
       "      <td>19.407</td>\n",
       "      <td>23.406</td>\n",
       "      <td>21.334</td>\n",
       "      <td>18.222</td>\n",
       "    </tr>\n",
       "  </tbody>\n",
       "</table>\n",
       "<p>177 rows × 12 columns</p>\n",
       "</div>"
      ],
      "text/plain": [
       "                      depresion                                    suicidios  \\\n",
       "año                        1992   1995   2000   2005   2010   2015      1992   \n",
       "Country                                                                        \n",
       "Afghanistan               3.190  3.236  3.196  3.212  3.206  3.296     6.979   \n",
       "Albania                   2.075  2.114  2.236  2.415  2.565  2.710     3.767   \n",
       "Algeria                   3.110  3.158  3.281  3.468  3.592  3.740     4.106   \n",
       "Angola                    3.310  3.334  3.299  3.255  3.229  3.212     8.817   \n",
       "Argentina                 3.681  3.748  3.820  3.841  3.842  3.875    10.684   \n",
       "...                         ...    ...    ...    ...    ...    ...       ...   \n",
       "Vietnam                   2.584  2.632  2.740  2.893  3.058  3.183     7.578   \n",
       "Virgin Islands (U.S.)     3.264  3.371  3.481  3.701  3.880  3.990     6.252   \n",
       "Yemen                     3.010  3.059  3.064  3.161  3.259  3.340     4.612   \n",
       "Zambia                    2.681  2.716  2.655  2.652  2.617  2.711     8.723   \n",
       "Zimbabwe                  2.333  2.382  2.366  2.393  2.391  2.447    10.088   \n",
       "\n",
       "                                                               \n",
       "año                      1995    2000    2005    2010    2015  \n",
       "Country                                                        \n",
       "Afghanistan             6.766   6.536   6.008   5.542   5.289  \n",
       "Albania                 3.743   4.706   5.733   5.717   5.887  \n",
       "Algeria                 4.491   4.947   4.894   4.591   4.392  \n",
       "Angola                  8.982   8.322   7.505   6.741   6.242  \n",
       "Argentina              11.541  12.498  11.256  11.343  11.255  \n",
       "...                       ...     ...     ...     ...     ...  \n",
       "Vietnam                 7.624   7.396   7.500   7.541   7.675  \n",
       "Virgin Islands (U.S.)   6.426   6.848   6.881   7.736   8.707  \n",
       "Yemen                   4.839   4.952   4.900   4.762   4.709  \n",
       "Zambia                  9.364   8.213   6.851   6.542   6.563  \n",
       "Zimbabwe               12.687  19.407  23.406  21.334  18.222  \n",
       "\n",
       "[177 rows x 12 columns]"
      ]
     },
     "execution_count": 213,
     "metadata": {},
     "output_type": "execute_result"
    }
   ],
   "source": [
    "tablasd = tabla_relacion_suicidios_depresion.pivot_table(index=\"Country\",columns=\"año\",values=[\"depresion\",\"suicidios\"])\n",
    "tablasd"
   ]
  },
  {
   "cell_type": "code",
   "execution_count": 235,
   "metadata": {},
   "outputs": [],
   "source": [
    "media_mundial_suicidios_2015 = tablasd[(\"suicidios\",\"2015\")].mean()\n",
    "media_mundial_suicidios_1995 = tablasd[(\"suicidios\",\"1995\")].mean()"
   ]
  },
  {
   "cell_type": "code",
   "execution_count": 231,
   "metadata": {},
   "outputs": [],
   "source": [
    "top3_paises_depresion_2015 = tablasd[(\"depresion\",\"2015\")].nlargest(3)"
   ]
  },
  {
   "cell_type": "code",
   "execution_count": 230,
   "metadata": {},
   "outputs": [],
   "source": [
    "top3_paises_depresion_suicidios_2015 = tablasd.loc[tablasd[(\"depresion\",\"2015\")].nlargest(3).index,(\"suicidios\",\"2015\")]"
   ]
  },
  {
   "cell_type": "markdown",
   "metadata": {},
   "source": [
    "GRÁFICO PARA VER RELACION SUICIDIOS VS DEPRESIÓN 1995\n"
   ]
  },
  {
   "cell_type": "code",
   "execution_count": 229,
   "metadata": {},
   "outputs": [],
   "source": [
    "top3_paises_depresion_1995 = tablasd[(\"depresion\",\"1995\")].nlargest(3)"
   ]
  },
  {
   "cell_type": "code",
   "execution_count": 241,
   "metadata": {},
   "outputs": [
    {
     "data": {
      "text/plain": [
       "Country\n",
       "Finland    6.256\n",
       "Sweden     5.659\n",
       "Ukraine    5.566\n",
       "Name: (depresion, 1995), dtype: float64"
      ]
     },
     "execution_count": 241,
     "metadata": {},
     "output_type": "execute_result"
    }
   ],
   "source": [
    "top3_paises_depresion_1995"
   ]
  },
  {
   "cell_type": "code",
   "execution_count": 228,
   "metadata": {},
   "outputs": [],
   "source": [
    "top3_paises_depresion_suicidios_1995 = tablasd.loc[tablasd[(\"depresion\",\"1995\")].nlargest(3).index,(\"suicidios\",\"1995\")]"
   ]
  },
  {
   "cell_type": "code",
   "execution_count": 238,
   "metadata": {},
   "outputs": [
    {
     "data": {
      "text/plain": [
       "Index(['Finland', 'Sweden', 'Ukraine'], dtype='object', name='Country')"
      ]
     },
     "execution_count": 238,
     "metadata": {},
     "output_type": "execute_result"
    }
   ],
   "source": [
    "top3_paises_depresion_suicidios_1995.index"
   ]
  },
  {
   "cell_type": "code",
   "execution_count": 242,
   "metadata": {},
   "outputs": [
    {
     "name": "stderr",
     "output_type": "stream",
     "text": [
      "C:\\Users\\rafac\\AppData\\Local\\Temp\\ipykernel_22500\\981883912.py:1: FutureWarning: Series.__getitem__ treating keys as positions is deprecated. In a future version, integer keys will always be treated as labels (consistent with DataFrame behavior). To access a value by position, use `ser.iloc[pos]`\n",
      "  data_top_1995 = pd.DataFrame({\"Pais\":top3_paises_depresion_suicidios_1995.index,\"Depresion\":[top3_paises_depresion_1995[0],top3_paises_depresion_1995[1],top3_paises_depresion_1995[2]],\"Suicidios\":[top3_paises_depresion_suicidios_1995[0],top3_paises_depresion_suicidios_1995[1],top3_paises_depresion_suicidios_1995[2]]})\n"
     ]
    }
   ],
   "source": [
    "data_top_1995 = pd.DataFrame({\"Pais\":top3_paises_depresion_suicidios_1995.index,\"Depresion\":[top3_paises_depresion_1995[0],top3_paises_depresion_1995[1],top3_paises_depresion_1995[2]],\"Suicidios\":[top3_paises_depresion_suicidios_1995[0],top3_paises_depresion_suicidios_1995[1],top3_paises_depresion_suicidios_1995[2]]})"
   ]
  },
  {
   "cell_type": "code",
   "execution_count": 243,
   "metadata": {},
   "outputs": [
    {
     "data": {
      "text/html": [
       "<div>\n",
       "<style scoped>\n",
       "    .dataframe tbody tr th:only-of-type {\n",
       "        vertical-align: middle;\n",
       "    }\n",
       "\n",
       "    .dataframe tbody tr th {\n",
       "        vertical-align: top;\n",
       "    }\n",
       "\n",
       "    .dataframe thead th {\n",
       "        text-align: right;\n",
       "    }\n",
       "</style>\n",
       "<table border=\"1\" class=\"dataframe\">\n",
       "  <thead>\n",
       "    <tr style=\"text-align: right;\">\n",
       "      <th></th>\n",
       "      <th>Pais</th>\n",
       "      <th>Depresion</th>\n",
       "      <th>Suicidios</th>\n",
       "    </tr>\n",
       "  </thead>\n",
       "  <tbody>\n",
       "    <tr>\n",
       "      <th>0</th>\n",
       "      <td>Finland</td>\n",
       "      <td>6.256</td>\n",
       "      <td>27.772</td>\n",
       "    </tr>\n",
       "    <tr>\n",
       "      <th>1</th>\n",
       "      <td>Sweden</td>\n",
       "      <td>5.659</td>\n",
       "      <td>19.439</td>\n",
       "    </tr>\n",
       "    <tr>\n",
       "      <th>2</th>\n",
       "      <td>Ukraine</td>\n",
       "      <td>5.566</td>\n",
       "      <td>37.099</td>\n",
       "    </tr>\n",
       "  </tbody>\n",
       "</table>\n",
       "</div>"
      ],
      "text/plain": [
       "      Pais  Depresion  Suicidios\n",
       "0  Finland      6.256     27.772\n",
       "1   Sweden      5.659     19.439\n",
       "2  Ukraine      5.566     37.099"
      ]
     },
     "execution_count": 243,
     "metadata": {},
     "output_type": "execute_result"
    }
   ],
   "source": [
    "data_top_1995"
   ]
  },
  {
   "cell_type": "code",
   "execution_count": 258,
   "metadata": {},
   "outputs": [
    {
     "data": {
      "text/plain": [
       "Text(0.5, 1.0, 'Prevalencia depresión vs suicidios (top 3 países 1995)')"
      ]
     },
     "execution_count": 258,
     "metadata": {},
     "output_type": "execute_result"
    },
    {
     "data": {
      "image/png": "[encoded data removed]",
      "text/plain": [
       "<Figure size 640x480 with 2 Axes>"
      ]
     },
     "metadata": {},
     "output_type": "display_data"
    }
   ],
   "source": [
    "fig,ax1 = plt.subplots()\n",
    "ax1.bar(x = np.arange(len(data_top_1995)) -0.2,height = data_top_1995[\"Depresion\"],data= data_top_1995,width=0.4,color =\"#b7917a\",label= \"puntuacion depresion\")\n",
    "ax1.set_ylabel(\"Porcentaje de poblacion con trastornos depresivos\",color = \"#b7917a\")\n",
    "ax1.tick_params(axis=\"y\",color=\"#b7917a\")\n",
    "ax1.set_xticks(np.arange(len(data_top_1995)))\n",
    "ax1.set_xticklabels(data_top_1995[\"Pais\"])\n",
    "ax2 = ax1.twinx() #Encontrado en internet,para compartir ejex pero cambiar el y\n",
    "ax2.bar(x=np.arange(len(data_top_1995))+0.2,height = data_top_1995[\"Suicidios\"],data= data_top_1995,width=0.4,color =\"#c2eceb\",label = \"Suicidios por cada 100mil habitantes\")\n",
    "ax2.set_ylabel(\"Suicidios por cada 100mil habitantes\",color = \"#69c9df\")\n",
    "ax2.tick_params(axis=\"y\",color=\"#c2eceb\")\n",
    "ax2.axhline(y=media_mundial_suicidios_1995,color =\"#d64c1e\",linestyle = \"--\",linewidth= 2,label =\"Media mundial suicidios 1995\")\n",
    "plt.title(\"Prevalencia depresión vs suicidios (top 3 países 1995)\",pad = 20)"
   ]
  },
  {
   "cell_type": "markdown",
   "metadata": {},
   "source": [
    "AHORA CON EL TOP 3 PAISES CON MENOS PREVALENCIA "
   ]
  },
  {
   "cell_type": "code",
   "execution_count": 259,
   "metadata": {},
   "outputs": [],
   "source": [
    "Low3_paises_depresion_1995 = tablasd[(\"depresion\",\"1995\")].nsmallest(3)"
   ]
  },
  {
   "cell_type": "code",
   "execution_count": 260,
   "metadata": {},
   "outputs": [],
   "source": [
    "Low3_paises_depresion_suicidios_1995 = tablasd.loc[tablasd[(\"depresion\",\"1995\")].nsmallest(3).index,(\"suicidios\",\"1995\")]"
   ]
  },
  {
   "cell_type": "code",
   "execution_count": 261,
   "metadata": {},
   "outputs": [
    {
     "name": "stderr",
     "output_type": "stream",
     "text": [
      "C:\\Users\\rafac\\AppData\\Local\\Temp\\ipykernel_22500\\3467837055.py:1: FutureWarning: Series.__getitem__ treating keys as positions is deprecated. In a future version, integer keys will always be treated as labels (consistent with DataFrame behavior). To access a value by position, use `ser.iloc[pos]`\n",
      "  data_low_1995 = pd.DataFrame({\"Pais\":Low3_paises_depresion_suicidios_1995.index,\"Depresion\":[Low3_paises_depresion_1995[0],Low3_paises_depresion_1995[1],Low3_paises_depresion_1995[2]],\"Suicidios\":[Low3_paises_depresion_suicidios_1995[0],Low3_paises_depresion_suicidios_1995[1],Low3_paises_depresion_suicidios_1995[2]]})\n"
     ]
    }
   ],
   "source": [
    "data_low_1995 = pd.DataFrame({\"Pais\":Low3_paises_depresion_suicidios_1995.index,\"Depresion\":[Low3_paises_depresion_1995[0],Low3_paises_depresion_1995[1],Low3_paises_depresion_1995[2]],\"Suicidios\":[Low3_paises_depresion_suicidios_1995[0],Low3_paises_depresion_suicidios_1995[1],Low3_paises_depresion_suicidios_1995[2]]})"
   ]
  },
  {
   "cell_type": "code",
   "execution_count": 262,
   "metadata": {},
   "outputs": [
    {
     "data": {
      "text/html": [
       "<div>\n",
       "<style scoped>\n",
       "    .dataframe tbody tr th:only-of-type {\n",
       "        vertical-align: middle;\n",
       "    }\n",
       "\n",
       "    .dataframe tbody tr th {\n",
       "        vertical-align: top;\n",
       "    }\n",
       "\n",
       "    .dataframe thead th {\n",
       "        text-align: right;\n",
       "    }\n",
       "</style>\n",
       "<table border=\"1\" class=\"dataframe\">\n",
       "  <thead>\n",
       "    <tr style=\"text-align: right;\">\n",
       "      <th></th>\n",
       "      <th>Pais</th>\n",
       "      <th>Depresion</th>\n",
       "      <th>Suicidios</th>\n",
       "    </tr>\n",
       "  </thead>\n",
       "  <tbody>\n",
       "    <tr>\n",
       "      <th>0</th>\n",
       "      <td>Myanmar (Burma)</td>\n",
       "      <td>1.977</td>\n",
       "      <td>6.669</td>\n",
       "    </tr>\n",
       "    <tr>\n",
       "      <th>1</th>\n",
       "      <td>Honduras</td>\n",
       "      <td>2.073</td>\n",
       "      <td>3.965</td>\n",
       "    </tr>\n",
       "    <tr>\n",
       "      <th>2</th>\n",
       "      <td>Albania</td>\n",
       "      <td>2.114</td>\n",
       "      <td>3.743</td>\n",
       "    </tr>\n",
       "  </tbody>\n",
       "</table>\n",
       "</div>"
      ],
      "text/plain": [
       "              Pais  Depresion  Suicidios\n",
       "0  Myanmar (Burma)      1.977      6.669\n",
       "1         Honduras      2.073      3.965\n",
       "2          Albania      2.114      3.743"
      ]
     },
     "execution_count": 262,
     "metadata": {},
     "output_type": "execute_result"
    }
   ],
   "source": [
    "data_low_1995"
   ]
  },
  {
   "cell_type": "code",
   "execution_count": 264,
   "metadata": {},
   "outputs": [
    {
     "data": {
      "text/plain": [
       "Text(0.5, 1.0, 'Prevalencia depresión vs suicidios (top 3 países 1995)')"
      ]
     },
     "execution_count": 264,
     "metadata": {},
     "output_type": "execute_result"
    },
    {
     "data": {
      "image/png": "[encoded data removed]",
      "text/plain": [
       "<Figure size 640x480 with 2 Axes>"
      ]
     },
     "metadata": {},
     "output_type": "display_data"
    }
   ],
   "source": [
    "fig,ax1 = plt.subplots()\n",
    "ax1.bar(x = np.arange(len(data_low_1995)) -0.2,height = data_low_1995[\"Depresion\"],data= data_low_1995,width=0.4,color =\"#77D057\",label= \"puntuacion depresion\")\n",
    "ax1.set_ylabel(\"Porcentaje de poblacion con trastornos depresivos\",color = \"#77D057\")\n",
    "ax1.tick_params(axis=\"y\",color=\"#77D057\")\n",
    "ax1.set_xticks(np.arange(len(data_low_1995)))\n",
    "ax1.set_xticklabels(data_low_1995[\"Pais\"])\n",
    "ax2 = ax1.twinx() #Encontrado en internet,para compartir ejex pero cambiar el y\n",
    "ax2.bar(x=np.arange(len(data_low_1995))+0.2,height = data_low_1995[\"Suicidios\"],data= data_low_1995,width=0.4,color =\"#B5731B\",label = \"Suicidios por cada 100mil habitantes\")\n",
    "ax2.set_ylabel(\"Suicidios por cada 100mil habitantes\",color = \"#B5731B\")\n",
    "ax2.tick_params(axis=\"y\",color=\"#c2eceb\")\n",
    "ax2.axhline(y=media_mundial_suicidios_1995,color =\"#B5731B\",linestyle = \"--\",linewidth= 2,label =\"Media mundial suicidios 1995\")\n",
    "plt.title(\"Prevalencia depresión vs suicidios (top 3 países 1995)\",pad = 20)"
   ]
  },
  {
   "cell_type": "markdown",
   "metadata": {},
   "source": [
    "VISTOS LOS RESULTADOS, VAMOS A VER LA CORRELACIÓN ENTRE VARIABLES(SUICIDIOS CADA 100 MIL HABITANTES VS PREVALENCIA TRASTORNOS DEPRESIVOS)"
   ]
  },
  {
   "cell_type": "code",
   "execution_count": 272,
   "metadata": {},
   "outputs": [
    {
     "data": {
      "text/plain": [
       "np.float64(0.9326388428475606)"
      ]
     },
     "execution_count": 272,
     "metadata": {},
     "output_type": "execute_result"
    }
   ],
   "source": [
    "variables[\"suicidios totales\"].corr(variables[\"personas depresion\"])"
   ]
  },
  {
   "cell_type": "code",
   "execution_count": 273,
   "metadata": {},
   "outputs": [
    {
     "data": {
      "text/plain": [
       "np.float64(0.5213141386874747)"
      ]
     },
     "execution_count": 273,
     "metadata": {},
     "output_type": "execute_result"
    }
   ],
   "source": [
    "variables[\"depresion\"].corr(variables[\"suicidios\"])"
   ]
  },
  {
   "cell_type": "code",
   "execution_count": null,
   "metadata": {},
   "outputs": [
    {
     "data": {
      "text/plain": [
       "<Axes: xlabel='suicidios', ylabel='depresion'>"
      ]
     },
     "execution_count": 281,
     "metadata": {},
     "output_type": "execute_result"
    },
    {
     "data": {
      "text/plain": [
       "<Figure size 640x480 with 0 Axes>"
      ]
     },
     "metadata": {},
     "output_type": "display_data"
    },
    {
     "data": {
      "image/png": "[encoded data removed]",
      "text/plain": [
       "<Figure size 640x480 with 3 Axes>"
      ]
     },
     "metadata": {},
     "output_type": "display_data"
    }
   ],
   "source": []
  },
  {
   "cell_type": "code",
   "execution_count": null,
   "metadata": {},
   "outputs": [],
   "source": []
  }
 ],
 "metadata": {
  "kernelspec": {
   "display_name": "Python 3",
   "language": "python",
   "name": "python3"
  },
  "language_info": {
   "codemirror_mode": {
    "name": "ipython",
    "version": 3
   },
   "file_extension": ".py",
   "mimetype": "text/x-python",
   "name": "python",
   "nbconvert_exporter": "python",
   "pygments_lexer": "ipython3",
   "version": "3.10.11"
  }
 },
 "nbformat": 4,
 "nbformat_minor": 2
}
