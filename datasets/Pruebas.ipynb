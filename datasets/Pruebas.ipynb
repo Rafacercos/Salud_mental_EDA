{
 "cells": [
  {
   "cell_type": "code",
   "execution_count": 2,
   "metadata": {},
   "outputs": [],
   "source": [
    "import pandas as pd \n",
    "import numpy as np"
   ]
  },
  {
   "cell_type": "markdown",
   "metadata": {},
   "source": [
    "INTRODUCCIÓN PRIMER DATASET\n",
    "MOSTRAR HEAD, SHAPE INFO\n",
    "DTYPES Y PROBLEMAS"
   ]
  },
  {
   "cell_type": "code",
   "execution_count": 40,
   "metadata": {},
   "outputs": [
    {
     "name": "stderr",
     "output_type": "stream",
     "text": [
      "C:\\Users\\rafac\\AppData\\Local\\Temp\\ipykernel_22184\\3891440191.py:1: DtypeWarning: Columns (5,6) have mixed types. Specify dtype option on import or set low_memory=False.\n",
      "  Principal_disorders = pd.read_csv(\"Principal_disorders.csv\")\n"
     ]
    }
   ],
   "source": [
    "Principal_disorders = pd.read_csv(\"Principal_disorders.csv\")"
   ]
  },
  {
   "cell_type": "code",
   "execution_count": 41,
   "metadata": {},
   "outputs": [
    {
     "data": {
      "text/plain": [
       "Index(['index', 'Entity', 'Code', 'Year', 'Schizophrenia (%)',\n",
       "       'Bipolar disorder (%)', 'Eating disorders (%)', 'Anxiety disorders (%)',\n",
       "       'Drug use disorders (%)', 'Depression (%)',\n",
       "       'Alcohol use disorders (%)'],\n",
       "      dtype='object')"
      ]
     },
     "execution_count": 41,
     "metadata": {},
     "output_type": "execute_result"
    }
   ],
   "source": [
    "Principal_disorders.columns"
   ]
  },
  {
   "cell_type": "markdown",
   "metadata": {},
   "source": [
    "ELIMINO LAS COLUMNAS QUE NO ME HACEN FALTA"
   ]
  },
  {
   "cell_type": "code",
   "execution_count": 42,
   "metadata": {},
   "outputs": [],
   "source": [
    "Principal_disorders.drop([\"Alcohol use disorders (%)\"], axis = 1, inplace = True)\n",
    "Principal_disorders.drop([\"Drug use disorders (%)\"], axis = 1, inplace = True)\n",
    "Principal_disorders.rename(columns={\"Entity\":\"Country\"},inplace=True)"
   ]
  },
  {
   "cell_type": "code",
   "execution_count": 43,
   "metadata": {},
   "outputs": [
    {
     "name": "stdout",
     "output_type": "stream",
     "text": [
      "<class 'pandas.core.frame.DataFrame'>\n",
      "RangeIndex: 108553 entries, 0 to 108552\n",
      "Data columns (total 9 columns):\n",
      " #   Column                 Non-Null Count   Dtype  \n",
      "---  ------                 --------------   -----  \n",
      " 0   index                  108553 non-null  int64  \n",
      " 1   Country                108553 non-null  object \n",
      " 2   Code                   103141 non-null  object \n",
      " 3   Year                   108553 non-null  object \n",
      " 4   Schizophrenia (%)      25875 non-null   object \n",
      " 5   Bipolar disorder (%)   19406 non-null   object \n",
      " 6   Eating disorders (%)   100236 non-null  object \n",
      " 7   Anxiety disorders (%)  6468 non-null    float64\n",
      " 8   Depression (%)         6468 non-null    float64\n",
      "dtypes: float64(2), int64(1), object(6)\n",
      "memory usage: 7.5+ MB\n"
     ]
    }
   ],
   "source": [
    "\n",
    "Principal_disorders.info()"
   ]
  },
  {
   "cell_type": "markdown",
   "metadata": {},
   "source": [
    "PRIMEROS AJUSTES EN LA COLUMNA SHIZOPHRENIA %"
   ]
  },
  {
   "cell_type": "code",
   "execution_count": 44,
   "metadata": {},
   "outputs": [
    {
     "data": {
      "text/plain": [
       "82678"
      ]
     },
     "execution_count": 44,
     "metadata": {},
     "output_type": "execute_result"
    }
   ],
   "source": [
    "len(Principal_disorders[\"Schizophrenia (%)\"][Principal_disorders[\"Schizophrenia (%)\"].isnull()])\n"
   ]
  },
  {
   "cell_type": "code",
   "execution_count": 103,
   "metadata": {},
   "outputs": [
    {
     "data": {
      "text/html": [
       "<div>\n",
       "<style scoped>\n",
       "    .dataframe tbody tr th:only-of-type {\n",
       "        vertical-align: middle;\n",
       "    }\n",
       "\n",
       "    .dataframe tbody tr th {\n",
       "        vertical-align: top;\n",
       "    }\n",
       "\n",
       "    .dataframe thead th {\n",
       "        text-align: right;\n",
       "    }\n",
       "</style>\n",
       "<table border=\"1\" class=\"dataframe\">\n",
       "  <thead>\n",
       "    <tr style=\"text-align: right;\">\n",
       "      <th></th>\n",
       "      <th>Year</th>\n",
       "      <th>Schizophrenia (%)</th>\n",
       "    </tr>\n",
       "    <tr>\n",
       "      <th>Country</th>\n",
       "      <th></th>\n",
       "      <th></th>\n",
       "    </tr>\n",
       "  </thead>\n",
       "  <tbody>\n",
       "    <tr>\n",
       "      <th>Spain</th>\n",
       "      <td>1800</td>\n",
       "      <td>NaN</td>\n",
       "    </tr>\n",
       "    <tr>\n",
       "      <th>Spain</th>\n",
       "      <td>1801</td>\n",
       "      <td>NaN</td>\n",
       "    </tr>\n",
       "    <tr>\n",
       "      <th>Spain</th>\n",
       "      <td>1802</td>\n",
       "      <td>NaN</td>\n",
       "    </tr>\n",
       "    <tr>\n",
       "      <th>Spain</th>\n",
       "      <td>1803</td>\n",
       "      <td>NaN</td>\n",
       "    </tr>\n",
       "    <tr>\n",
       "      <th>Spain</th>\n",
       "      <td>1804</td>\n",
       "      <td>NaN</td>\n",
       "    </tr>\n",
       "    <tr>\n",
       "      <th>...</th>\n",
       "      <td>...</td>\n",
       "      <td>...</td>\n",
       "    </tr>\n",
       "    <tr>\n",
       "      <th>Spain</th>\n",
       "      <td>2013</td>\n",
       "      <td>1819825.91609</td>\n",
       "    </tr>\n",
       "    <tr>\n",
       "      <th>Spain</th>\n",
       "      <td>2014</td>\n",
       "      <td>1820631.15389</td>\n",
       "    </tr>\n",
       "    <tr>\n",
       "      <th>Spain</th>\n",
       "      <td>2015</td>\n",
       "      <td>1821985.80629</td>\n",
       "    </tr>\n",
       "    <tr>\n",
       "      <th>Spain</th>\n",
       "      <td>2016</td>\n",
       "      <td>1823137.20919</td>\n",
       "    </tr>\n",
       "    <tr>\n",
       "      <th>Spain</th>\n",
       "      <td>2017</td>\n",
       "      <td>1824111.78683</td>\n",
       "    </tr>\n",
       "  </tbody>\n",
       "</table>\n",
       "<p>468 rows × 2 columns</p>\n",
       "</div>"
      ],
      "text/plain": [
       "         Year Schizophrenia (%)\n",
       "Country                        \n",
       "Spain    1800               NaN\n",
       "Spain    1801               NaN\n",
       "Spain    1802               NaN\n",
       "Spain    1803               NaN\n",
       "Spain    1804               NaN\n",
       "...       ...               ...\n",
       "Spain    2013     1819825.91609\n",
       "Spain    2014     1820631.15389\n",
       "Spain    2015     1821985.80629\n",
       "Spain    2016     1823137.20919\n",
       "Spain    2017     1824111.78683\n",
       "\n",
       "[468 rows x 2 columns]"
      ]
     },
     "execution_count": 103,
     "metadata": {},
     "output_type": "execute_result"
    }
   ],
   "source": [
    "España = Principal_disorders[[\"Schizophrenia (%)\", \"Year\",\"Country\"]].set_index(\"Country\").loc[\"Spain\"]\n",
    "España[[\"Year\",\"Schizophrenia (%)\"]][28:]"
   ]
  },
  {
   "cell_type": "code",
   "execution_count": 121,
   "metadata": {},
   "outputs": [
    {
     "data": {
      "text/plain": [
       "Country      Year  Schizophrenia (%)  Bipolar disorder (%)  Eating disorders (%)  Anxiety disorders (%)  Depression (%)\n",
       "Afghanistan  1990  0.16056            0.697779              0.101855              4.828830               4.071831          1\n",
       "             1991  0.160312           0.697961              0.099313              4.829740               4.079531          1\n",
       "             1992  0.160135           0.698107              0.096692              4.831108               4.088358          1\n",
       "             1993  0.160037           0.698257              0.094336              4.830864               4.096190          1\n",
       "             1994  0.160022           0.698469              0.092439              4.829423               4.099582          1\n",
       "                                                                                                                          ..\n",
       "Zimbabwe     2013  0.15567            0.607993              0.117248              3.090168               3.128192          1\n",
       "             2014  0.155993           0.60861               0.118073              3.093964               3.140290          1\n",
       "             2015  0.156465           0.609363              0.11947               3.098687               3.155710          1\n",
       "             2016  0.157111           0.610234              0.121456              3.104294               3.174134          1\n",
       "             2017  0.157963           0.611242              0.124443              3.110926               3.192789          1\n",
       "Name: count, Length: 6468, dtype: int64"
      ]
     },
     "execution_count": 121,
     "metadata": {},
     "output_type": "execute_result"
    }
   ],
   "source": [
    "Principal_disorders.groupby([\"Country\",\"Year\"])[[\"Schizophrenia (%)\",\"Bipolar disorder (%)\",\"Eating disorders (%)\",\"Anxiety disorders (%)\",\"Depression (%)\"]].value_counts()"
   ]
  },
  {
   "cell_type": "code",
   "execution_count": null,
   "metadata": {},
   "outputs": [
    {
     "data": {
      "text/html": [
       "<div>\n",
       "<style scoped>\n",
       "    .dataframe tbody tr th:only-of-type {\n",
       "        vertical-align: middle;\n",
       "    }\n",
       "\n",
       "    .dataframe tbody tr th {\n",
       "        vertical-align: top;\n",
       "    }\n",
       "\n",
       "    .dataframe thead th {\n",
       "        text-align: right;\n",
       "    }\n",
       "</style>\n",
       "<table border=\"1\" class=\"dataframe\">\n",
       "  <thead>\n",
       "    <tr style=\"text-align: right;\">\n",
       "      <th></th>\n",
       "      <th></th>\n",
       "      <th></th>\n",
       "      <th></th>\n",
       "      <th></th>\n",
       "      <th></th>\n",
       "      <th></th>\n",
       "      <th>count</th>\n",
       "    </tr>\n",
       "    <tr>\n",
       "      <th>Country</th>\n",
       "      <th>Year</th>\n",
       "      <th>Schizophrenia (%)</th>\n",
       "      <th>Bipolar disorder (%)</th>\n",
       "      <th>Eating disorders (%)</th>\n",
       "      <th>Anxiety disorders (%)</th>\n",
       "      <th>Depression (%)</th>\n",
       "      <th></th>\n",
       "    </tr>\n",
       "  </thead>\n",
       "  <tbody>\n",
       "    <tr>\n",
       "      <th rowspan=\"5\" valign=\"top\">Afghanistan</th>\n",
       "      <th>1990</th>\n",
       "      <th>0.16056</th>\n",
       "      <th>0.697779</th>\n",
       "      <th>0.101855</th>\n",
       "      <th>4.828830</th>\n",
       "      <th>4.071831</th>\n",
       "      <td>1</td>\n",
       "    </tr>\n",
       "    <tr>\n",
       "      <th>1991</th>\n",
       "      <th>0.160312</th>\n",
       "      <th>0.697961</th>\n",
       "      <th>0.099313</th>\n",
       "      <th>4.829740</th>\n",
       "      <th>4.079531</th>\n",
       "      <td>1</td>\n",
       "    </tr>\n",
       "    <tr>\n",
       "      <th>1992</th>\n",
       "      <th>0.160135</th>\n",
       "      <th>0.698107</th>\n",
       "      <th>0.096692</th>\n",
       "      <th>4.831108</th>\n",
       "      <th>4.088358</th>\n",
       "      <td>1</td>\n",
       "    </tr>\n",
       "    <tr>\n",
       "      <th>1993</th>\n",
       "      <th>0.160037</th>\n",
       "      <th>0.698257</th>\n",
       "      <th>0.094336</th>\n",
       "      <th>4.830864</th>\n",
       "      <th>4.096190</th>\n",
       "      <td>1</td>\n",
       "    </tr>\n",
       "    <tr>\n",
       "      <th>1994</th>\n",
       "      <th>0.160022</th>\n",
       "      <th>0.698469</th>\n",
       "      <th>0.092439</th>\n",
       "      <th>4.829423</th>\n",
       "      <th>4.099582</th>\n",
       "      <td>1</td>\n",
       "    </tr>\n",
       "    <tr>\n",
       "      <th>...</th>\n",
       "      <th>...</th>\n",
       "      <th>...</th>\n",
       "      <th>...</th>\n",
       "      <th>...</th>\n",
       "      <th>...</th>\n",
       "      <th>...</th>\n",
       "      <td>...</td>\n",
       "    </tr>\n",
       "    <tr>\n",
       "      <th rowspan=\"5\" valign=\"top\">Zimbabwe</th>\n",
       "      <th>2013</th>\n",
       "      <th>0.15567</th>\n",
       "      <th>0.607993</th>\n",
       "      <th>0.117248</th>\n",
       "      <th>3.090168</th>\n",
       "      <th>3.128192</th>\n",
       "      <td>1</td>\n",
       "    </tr>\n",
       "    <tr>\n",
       "      <th>2014</th>\n",
       "      <th>0.155993</th>\n",
       "      <th>0.60861</th>\n",
       "      <th>0.118073</th>\n",
       "      <th>3.093964</th>\n",
       "      <th>3.140290</th>\n",
       "      <td>1</td>\n",
       "    </tr>\n",
       "    <tr>\n",
       "      <th>2015</th>\n",
       "      <th>0.156465</th>\n",
       "      <th>0.609363</th>\n",
       "      <th>0.11947</th>\n",
       "      <th>3.098687</th>\n",
       "      <th>3.155710</th>\n",
       "      <td>1</td>\n",
       "    </tr>\n",
       "    <tr>\n",
       "      <th>2016</th>\n",
       "      <th>0.157111</th>\n",
       "      <th>0.610234</th>\n",
       "      <th>0.121456</th>\n",
       "      <th>3.104294</th>\n",
       "      <th>3.174134</th>\n",
       "      <td>1</td>\n",
       "    </tr>\n",
       "    <tr>\n",
       "      <th>2017</th>\n",
       "      <th>0.157963</th>\n",
       "      <th>0.611242</th>\n",
       "      <th>0.124443</th>\n",
       "      <th>3.110926</th>\n",
       "      <th>3.192789</th>\n",
       "      <td>1</td>\n",
       "    </tr>\n",
       "  </tbody>\n",
       "</table>\n",
       "<p>6468 rows × 1 columns</p>\n",
       "</div>"
      ],
      "text/plain": [
       "                                                                                                                   count\n",
       "Country     Year Schizophrenia (%) Bipolar disorder (%) Eating disorders (%) Anxiety disorders (%) Depression (%)       \n",
       "Afghanistan 1990 0.16056           0.697779             0.101855             4.828830              4.071831            1\n",
       "            1991 0.160312          0.697961             0.099313             4.829740              4.079531            1\n",
       "            1992 0.160135          0.698107             0.096692             4.831108              4.088358            1\n",
       "            1993 0.160037          0.698257             0.094336             4.830864              4.096190            1\n",
       "            1994 0.160022          0.698469             0.092439             4.829423              4.099582            1\n",
       "...                                                                                                                  ...\n",
       "Zimbabwe    2013 0.15567           0.607993             0.117248             3.090168              3.128192            1\n",
       "            2014 0.155993          0.60861              0.118073             3.093964              3.140290            1\n",
       "            2015 0.156465          0.609363             0.11947              3.098687              3.155710            1\n",
       "            2016 0.157111          0.610234             0.121456             3.104294              3.174134            1\n",
       "            2017 0.157963          0.611242             0.124443             3.110926              3.192789            1\n",
       "\n",
       "[6468 rows x 1 columns]"
      ]
     },
     "execution_count": 120,
     "metadata": {},
     "output_type": "execute_result"
    }
   ],
   "source": []
  },
  {
   "cell_type": "code",
   "execution_count": null,
   "metadata": {},
   "outputs": [],
   "source": []
  }
 ],
 "metadata": {
  "kernelspec": {
   "display_name": "Python 3",
   "language": "python",
   "name": "python3"
  },
  "language_info": {
   "codemirror_mode": {
    "name": "ipython",
    "version": 3
   },
   "file_extension": ".py",
   "mimetype": "text/x-python",
   "name": "python",
   "nbconvert_exporter": "python",
   "pygments_lexer": "ipython3",
   "version": "3.10.11"
  }
 },
 "nbformat": 4,
 "nbformat_minor": 2
}
