{
 "cells": [
  {
   "cell_type": "code",
   "execution_count": 2,
   "metadata": {},
   "outputs": [],
   "source": [
    "import pandas as pd \n",
    "import numpy as np"
   ]
  },
  {
   "cell_type": "markdown",
   "metadata": {},
   "source": [
    "INTRODUCCIÓN PRIMER DATASET\n",
    "MOSTRAR HEAD, SHAPE INFO\n",
    "DTYPES Y PROBLEMAS"
   ]
  },
  {
   "cell_type": "code",
   "execution_count": 3,
   "metadata": {},
   "outputs": [
    {
     "name": "stderr",
     "output_type": "stream",
     "text": [
      "C:\\Users\\rafac\\AppData\\Local\\Temp\\ipykernel_23240\\3891440191.py:1: DtypeWarning: Columns (5,6) have mixed types. Specify dtype option on import or set low_memory=False.\n",
      "  Principal_disorders = pd.read_csv(\"Principal_disorders.csv\")\n"
     ]
    }
   ],
   "source": [
    "Principal_disorders = pd.read_csv(\"Principal_disorders.csv\")"
   ]
  },
  {
   "cell_type": "code",
   "execution_count": 4,
   "metadata": {},
   "outputs": [
    {
     "data": {
      "text/plain": [
       "Index(['index', 'Entity', 'Code', 'Year', 'Schizophrenia (%)',\n",
       "       'Bipolar disorder (%)', 'Eating disorders (%)', 'Anxiety disorders (%)',\n",
       "       'Drug use disorders (%)', 'Depression (%)',\n",
       "       'Alcohol use disorders (%)'],\n",
       "      dtype='object')"
      ]
     },
     "execution_count": 4,
     "metadata": {},
     "output_type": "execute_result"
    }
   ],
   "source": [
    "Principal_disorders.columns"
   ]
  },
  {
   "cell_type": "markdown",
   "metadata": {},
   "source": [
    "ELIMINO LAS COLUMNAS QUE NO ME HACEN FALTA"
   ]
  },
  {
   "cell_type": "code",
   "execution_count": 5,
   "metadata": {},
   "outputs": [],
   "source": [
    "Principal_disorders.drop([\"Alcohol use disorders (%)\"], axis = 1, inplace = True)\n",
    "Principal_disorders.drop([\"Drug use disorders (%)\"], axis = 1, inplace = True)\n",
    "Principal_disorders.rename(columns={\"Entity\":\"Country\"},inplace=True)"
   ]
  },
  {
   "cell_type": "code",
   "execution_count": 6,
   "metadata": {},
   "outputs": [
    {
     "name": "stdout",
     "output_type": "stream",
     "text": [
      "<class 'pandas.core.frame.DataFrame'>\n",
      "RangeIndex: 108553 entries, 0 to 108552\n",
      "Data columns (total 9 columns):\n",
      " #   Column                 Non-Null Count   Dtype  \n",
      "---  ------                 --------------   -----  \n",
      " 0   index                  108553 non-null  int64  \n",
      " 1   Country                108553 non-null  object \n",
      " 2   Code                   103141 non-null  object \n",
      " 3   Year                   108553 non-null  object \n",
      " 4   Schizophrenia (%)      25875 non-null   object \n",
      " 5   Bipolar disorder (%)   19406 non-null   object \n",
      " 6   Eating disorders (%)   100236 non-null  object \n",
      " 7   Anxiety disorders (%)  6468 non-null    float64\n",
      " 8   Depression (%)         6468 non-null    float64\n",
      "dtypes: float64(2), int64(1), object(6)\n",
      "memory usage: 7.5+ MB\n"
     ]
    }
   ],
   "source": [
    "\n",
    "Principal_disorders.info()"
   ]
  },
  {
   "cell_type": "markdown",
   "metadata": {},
   "source": [
    "PRIMEROS AJUSTES EN LA COLUMNA SHIZOPHRENIA %"
   ]
  },
  {
   "cell_type": "code",
   "execution_count": 7,
   "metadata": {},
   "outputs": [
    {
     "data": {
      "text/plain": [
       "82678"
      ]
     },
     "execution_count": 7,
     "metadata": {},
     "output_type": "execute_result"
    }
   ],
   "source": [
    "len(Principal_disorders[\"Schizophrenia (%)\"][Principal_disorders[\"Schizophrenia (%)\"].isnull()])\n"
   ]
  },
  {
   "cell_type": "code",
   "execution_count": 8,
   "metadata": {},
   "outputs": [
    {
     "data": {
      "text/html": [
       "<div>\n",
       "<style scoped>\n",
       "    .dataframe tbody tr th:only-of-type {\n",
       "        vertical-align: middle;\n",
       "    }\n",
       "\n",
       "    .dataframe tbody tr th {\n",
       "        vertical-align: top;\n",
       "    }\n",
       "\n",
       "    .dataframe thead th {\n",
       "        text-align: right;\n",
       "    }\n",
       "</style>\n",
       "<table border=\"1\" class=\"dataframe\">\n",
       "  <thead>\n",
       "    <tr style=\"text-align: right;\">\n",
       "      <th></th>\n",
       "      <th>Year</th>\n",
       "      <th>Schizophrenia (%)</th>\n",
       "    </tr>\n",
       "    <tr>\n",
       "      <th>Country</th>\n",
       "      <th></th>\n",
       "      <th></th>\n",
       "    </tr>\n",
       "  </thead>\n",
       "  <tbody>\n",
       "    <tr>\n",
       "      <th>Spain</th>\n",
       "      <td>1800</td>\n",
       "      <td>NaN</td>\n",
       "    </tr>\n",
       "    <tr>\n",
       "      <th>Spain</th>\n",
       "      <td>1801</td>\n",
       "      <td>NaN</td>\n",
       "    </tr>\n",
       "    <tr>\n",
       "      <th>Spain</th>\n",
       "      <td>1802</td>\n",
       "      <td>NaN</td>\n",
       "    </tr>\n",
       "    <tr>\n",
       "      <th>Spain</th>\n",
       "      <td>1803</td>\n",
       "      <td>NaN</td>\n",
       "    </tr>\n",
       "    <tr>\n",
       "      <th>Spain</th>\n",
       "      <td>1804</td>\n",
       "      <td>NaN</td>\n",
       "    </tr>\n",
       "    <tr>\n",
       "      <th>...</th>\n",
       "      <td>...</td>\n",
       "      <td>...</td>\n",
       "    </tr>\n",
       "    <tr>\n",
       "      <th>Spain</th>\n",
       "      <td>2013</td>\n",
       "      <td>1819825.91609</td>\n",
       "    </tr>\n",
       "    <tr>\n",
       "      <th>Spain</th>\n",
       "      <td>2014</td>\n",
       "      <td>1820631.15389</td>\n",
       "    </tr>\n",
       "    <tr>\n",
       "      <th>Spain</th>\n",
       "      <td>2015</td>\n",
       "      <td>1821985.80629</td>\n",
       "    </tr>\n",
       "    <tr>\n",
       "      <th>Spain</th>\n",
       "      <td>2016</td>\n",
       "      <td>1823137.20919</td>\n",
       "    </tr>\n",
       "    <tr>\n",
       "      <th>Spain</th>\n",
       "      <td>2017</td>\n",
       "      <td>1824111.78683</td>\n",
       "    </tr>\n",
       "  </tbody>\n",
       "</table>\n",
       "<p>468 rows × 2 columns</p>\n",
       "</div>"
      ],
      "text/plain": [
       "         Year Schizophrenia (%)\n",
       "Country                        \n",
       "Spain    1800               NaN\n",
       "Spain    1801               NaN\n",
       "Spain    1802               NaN\n",
       "Spain    1803               NaN\n",
       "Spain    1804               NaN\n",
       "...       ...               ...\n",
       "Spain    2013     1819825.91609\n",
       "Spain    2014     1820631.15389\n",
       "Spain    2015     1821985.80629\n",
       "Spain    2016     1823137.20919\n",
       "Spain    2017     1824111.78683\n",
       "\n",
       "[468 rows x 2 columns]"
      ]
     },
     "execution_count": 8,
     "metadata": {},
     "output_type": "execute_result"
    }
   ],
   "source": [
    "España = Principal_disorders[[\"Schizophrenia (%)\", \"Year\",\"Country\"]].set_index(\"Country\").loc[\"Spain\"]\n",
    "España[[\"Year\",\"Schizophrenia (%)\"]][28:]"
   ]
  },
  {
   "cell_type": "markdown",
   "metadata": {},
   "source": [
    "EXISTÍAN VALORES DESDE EL AÑO 1800 PARA CADA PAÍS Y ADEMÁS HABÍA VALORES DE \"YEAR\" EXTRAÑOS Y QUE CONTENÍAN LETRAS "
   ]
  },
  {
   "cell_type": "code",
   "execution_count": 9,
   "metadata": {},
   "outputs": [
    {
     "data": {
      "text/html": [
       "<div>\n",
       "<style scoped>\n",
       "    .dataframe tbody tr th:only-of-type {\n",
       "        vertical-align: middle;\n",
       "    }\n",
       "\n",
       "    .dataframe tbody tr th {\n",
       "        vertical-align: top;\n",
       "    }\n",
       "\n",
       "    .dataframe thead th {\n",
       "        text-align: right;\n",
       "    }\n",
       "</style>\n",
       "<table border=\"1\" class=\"dataframe\">\n",
       "  <thead>\n",
       "    <tr style=\"text-align: right;\">\n",
       "      <th></th>\n",
       "      <th></th>\n",
       "      <th>Schizophrenia (%)</th>\n",
       "      <th>Bipolar disorder (%)</th>\n",
       "      <th>Eating disorders (%)</th>\n",
       "      <th>Anxiety disorders (%)</th>\n",
       "      <th>Depression (%)</th>\n",
       "    </tr>\n",
       "    <tr>\n",
       "      <th>Country</th>\n",
       "      <th>Year</th>\n",
       "      <th></th>\n",
       "      <th></th>\n",
       "      <th></th>\n",
       "      <th></th>\n",
       "      <th></th>\n",
       "    </tr>\n",
       "  </thead>\n",
       "  <tbody>\n",
       "    <tr>\n",
       "      <th rowspan=\"11\" valign=\"top\">Afghanistan</th>\n",
       "      <th>1800</th>\n",
       "      <td>0</td>\n",
       "      <td>0</td>\n",
       "      <td>2</td>\n",
       "      <td>0</td>\n",
       "      <td>0</td>\n",
       "    </tr>\n",
       "    <tr>\n",
       "      <th>1801</th>\n",
       "      <td>0</td>\n",
       "      <td>0</td>\n",
       "      <td>2</td>\n",
       "      <td>0</td>\n",
       "      <td>0</td>\n",
       "    </tr>\n",
       "    <tr>\n",
       "      <th>1802</th>\n",
       "      <td>0</td>\n",
       "      <td>0</td>\n",
       "      <td>2</td>\n",
       "      <td>0</td>\n",
       "      <td>0</td>\n",
       "    </tr>\n",
       "    <tr>\n",
       "      <th>1803</th>\n",
       "      <td>0</td>\n",
       "      <td>0</td>\n",
       "      <td>2</td>\n",
       "      <td>0</td>\n",
       "      <td>0</td>\n",
       "    </tr>\n",
       "    <tr>\n",
       "      <th>1804</th>\n",
       "      <td>0</td>\n",
       "      <td>0</td>\n",
       "      <td>2</td>\n",
       "      <td>0</td>\n",
       "      <td>0</td>\n",
       "    </tr>\n",
       "    <tr>\n",
       "      <th>...</th>\n",
       "      <td>...</td>\n",
       "      <td>...</td>\n",
       "      <td>...</td>\n",
       "      <td>...</td>\n",
       "      <td>...</td>\n",
       "    </tr>\n",
       "    <tr>\n",
       "      <th>2015</th>\n",
       "      <td>4</td>\n",
       "      <td>3</td>\n",
       "      <td>3</td>\n",
       "      <td>1</td>\n",
       "      <td>1</td>\n",
       "    </tr>\n",
       "    <tr>\n",
       "      <th>2016</th>\n",
       "      <td>4</td>\n",
       "      <td>3</td>\n",
       "      <td>3</td>\n",
       "      <td>1</td>\n",
       "      <td>1</td>\n",
       "    </tr>\n",
       "    <tr>\n",
       "      <th>2017</th>\n",
       "      <td>4</td>\n",
       "      <td>3</td>\n",
       "      <td>3</td>\n",
       "      <td>1</td>\n",
       "      <td>1</td>\n",
       "    </tr>\n",
       "    <tr>\n",
       "      <th>2018</th>\n",
       "      <td>0</td>\n",
       "      <td>0</td>\n",
       "      <td>2</td>\n",
       "      <td>0</td>\n",
       "      <td>0</td>\n",
       "    </tr>\n",
       "    <tr>\n",
       "      <th>2019</th>\n",
       "      <td>0</td>\n",
       "      <td>0</td>\n",
       "      <td>2</td>\n",
       "      <td>0</td>\n",
       "      <td>0</td>\n",
       "    </tr>\n",
       "  </tbody>\n",
       "</table>\n",
       "<p>220 rows × 5 columns</p>\n",
       "</div>"
      ],
      "text/plain": [
       "                  Schizophrenia (%)  Bipolar disorder (%)  \\\n",
       "Country     Year                                            \n",
       "Afghanistan 1800                  0                     0   \n",
       "            1801                  0                     0   \n",
       "            1802                  0                     0   \n",
       "            1803                  0                     0   \n",
       "            1804                  0                     0   \n",
       "...                             ...                   ...   \n",
       "            2015                  4                     3   \n",
       "            2016                  4                     3   \n",
       "            2017                  4                     3   \n",
       "            2018                  0                     0   \n",
       "            2019                  0                     0   \n",
       "\n",
       "                  Eating disorders (%)  Anxiety disorders (%)  Depression (%)  \n",
       "Country     Year                                                               \n",
       "Afghanistan 1800                     2                      0               0  \n",
       "            1801                     2                      0               0  \n",
       "            1802                     2                      0               0  \n",
       "            1803                     2                      0               0  \n",
       "            1804                     2                      0               0  \n",
       "...                                ...                    ...             ...  \n",
       "            2015                     3                      1               1  \n",
       "            2016                     3                      1               1  \n",
       "            2017                     3                      1               1  \n",
       "            2018                     2                      0               0  \n",
       "            2019                     2                      0               0  \n",
       "\n",
       "[220 rows x 5 columns]"
      ]
     },
     "execution_count": 9,
     "metadata": {},
     "output_type": "execute_result"
    }
   ],
   "source": [
    "Principal_disorders.groupby([\"Country\",\"Year\"])[[\"Schizophrenia (%)\",\"Bipolar disorder (%)\",\"Eating disorders (%)\",\"Anxiety disorders (%)\",\"Depression (%)\"]].count()[:220]"
   ]
  },
  {
   "cell_type": "code",
   "execution_count": 10,
   "metadata": {},
   "outputs": [],
   "source": [
    "Principal_disorders.set_index(\"index\",inplace = True)\n"
   ]
  },
  {
   "cell_type": "code",
   "execution_count": 11,
   "metadata": {},
   "outputs": [],
   "source": [
    "Principal_disorders = Principal_disorders[Principal_disorders[\"Year\"].astype(str).str.isdigit()] \n"
   ]
  },
  {
   "cell_type": "code",
   "execution_count": 12,
   "metadata": {},
   "outputs": [
    {
     "data": {
      "text/plain": [
       "array(['1990', '1991', '1992', '1993', '1994', '1995', '1996', '1997',\n",
       "       '1998', '1999', '2000', '2001', '2002', '2003', '2004', '2005',\n",
       "       '2006', '2007', '2008', '2009', '2010', '2011', '2012', '2013',\n",
       "       '2014', '2015', '2016', '2017', '1800', '1801', '1802', '1803',\n",
       "       '1804', '1805', '1806', '1807', '1808', '1809', '1810', '1811',\n",
       "       '1812', '1813', '1814', '1815', '1816', '1817', '1818', '1819',\n",
       "       '1820', '1821', '1822', '1823', '1824', '1825', '1826', '1827',\n",
       "       '1828', '1829', '1830', '1831', '1832', '1833', '1834', '1835',\n",
       "       '1836', '1837', '1838', '1839', '1840', '1841', '1842', '1843',\n",
       "       '1844', '1845', '1846', '1847', '1848', '1849', '1850', '1851',\n",
       "       '1852', '1853', '1854', '1855', '1856', '1857', '1858', '1859',\n",
       "       '1860', '1861', '1862', '1863', '1864', '1865', '1866', '1867',\n",
       "       '1868', '1869', '1870', '1871', '1872', '1873', '1874', '1875',\n",
       "       '1876', '1877', '1878', '1879', '1880', '1881', '1882', '1883',\n",
       "       '1884', '1885', '1886', '1887', '1888', '1889', '1890', '1891',\n",
       "       '1892', '1893', '1894', '1895', '1896', '1897', '1898', '1899',\n",
       "       '1900', '1901', '1902', '1903', '1904', '1905', '1906', '1907',\n",
       "       '1908', '1909', '1910', '1911', '1912', '1913', '1914', '1915',\n",
       "       '1916', '1917', '1918', '1919', '1920', '1921', '1922', '1923',\n",
       "       '1924', '1925', '1926', '1927', '1928', '1929', '1930', '1931',\n",
       "       '1932', '1933', '1934', '1935', '1936', '1937', '1938', '1939',\n",
       "       '1940', '1941', '1942', '1943', '1944', '1945', '1946', '1947',\n",
       "       '1948', '1949', '1950', '1951', '1952', '1953', '1954', '1955',\n",
       "       '1956', '1957', '1958', '1959', '1960', '1961', '1962', '1963',\n",
       "       '1964', '1965', '1966', '1967', '1968', '1969', '1970', '1971',\n",
       "       '1972', '1973', '1974', '1975', '1976', '1977', '1978', '1979',\n",
       "       '1980', '1981', '1982', '1983', '1984', '1985', '1986', '1987',\n",
       "       '1988', '1989', '2018', '2019', '0', '100', '200', '300', '400',\n",
       "       '500', '600', '700', '800', '900', '1000', '1100', '1200', '1300',\n",
       "       '1400', '1500', '1600', '1700', '1710', '1720', '1730', '1740',\n",
       "       '1750', '1760', '1770', '1780', '1790', '1'], dtype=object)"
      ]
     },
     "execution_count": 12,
     "metadata": {},
     "output_type": "execute_result"
    }
   ],
   "source": [
    "Principal_disorders[\"Year\"].unique()"
   ]
  },
  {
   "cell_type": "markdown",
   "metadata": {},
   "source": [
    "FILTRO POR LOS AÑOS QUE ME INTERESAN,ANTES HABIENDO PASADO LAS COLUMNAS A NÚMEROS Y CONVIRTIENDO LOS VALORES QUE CONTENÍAN LETRAS EN NAN"
   ]
  },
  {
   "cell_type": "code",
   "execution_count": 13,
   "metadata": {},
   "outputs": [],
   "source": [
    "Principal_disorders = Principal_disorders.reset_index(drop=True)"
   ]
  },
  {
   "cell_type": "code",
   "execution_count": 14,
   "metadata": {},
   "outputs": [],
   "source": [
    "Principal_disorders[\"Year\"]= pd.to_numeric(Principal_disorders[\"Year\"],errors = \"coerce\")"
   ]
  },
  {
   "cell_type": "code",
   "execution_count": 15,
   "metadata": {},
   "outputs": [],
   "source": [
    "Principal_disorders = Principal_disorders[(Principal_disorders[\"Year\"]>=1990)& (Principal_disorders[\"Year\"]<= 2017)]"
   ]
  },
  {
   "cell_type": "code",
   "execution_count": 16,
   "metadata": {},
   "outputs": [
    {
     "data": {
      "text/plain": [
       "array([1990, 1991, 1992, 1993, 1994, 1995, 1996, 1997, 1998, 1999, 2000,\n",
       "       2001, 2002, 2003, 2004, 2005, 2006, 2007, 2008, 2009, 2010, 2011,\n",
       "       2012, 2013, 2014, 2015, 2016, 2017])"
      ]
     },
     "execution_count": 16,
     "metadata": {},
     "output_type": "execute_result"
    }
   ],
   "source": [
    "Principal_disorders[\"Year\"].unique()"
   ]
  },
  {
   "cell_type": "markdown",
   "metadata": {},
   "source": [
    "ELIMINO TODOS LOS VALORES DEL RESTO DE COLUMNAS QUE NO ESTÉN DENTRO DEL FILTRO"
   ]
  },
  {
   "cell_type": "code",
   "execution_count": 17,
   "metadata": {},
   "outputs": [],
   "source": [
    "Principal_disorders = Principal_disorders.dropna(subset = [\"Year\"])\n",
    "Principal_disorders.reset_index(inplace=True,drop=True)"
   ]
  },
  {
   "cell_type": "code",
   "execution_count": 18,
   "metadata": {},
   "outputs": [],
   "source": [
    "Principal_disorders[\"Schizophrenia (%)\"] = Principal_disorders[\"Schizophrenia (%)\"].astype(float)"
   ]
  },
  {
   "cell_type": "code",
   "execution_count": 19,
   "metadata": {},
   "outputs": [
    {
     "data": {
      "text/plain": [
       "1000    0.188008\n",
       "1001    0.188287\n",
       "1002    0.188573\n",
       "1003    0.188861\n",
       "1004    0.189143\n",
       "          ...   \n",
       "1495    0.252311\n",
       "1496    0.252471\n",
       "1497    0.252666\n",
       "1498    0.252842\n",
       "1499    0.252947\n",
       "Name: Schizophrenia (%), Length: 500, dtype: float64"
      ]
     },
     "execution_count": 19,
     "metadata": {},
     "output_type": "execute_result"
    }
   ],
   "source": [
    "Principal_disorders[\"Schizophrenia (%)\"][1000:1500]"
   ]
  },
  {
   "cell_type": "code",
   "execution_count": 20,
   "metadata": {},
   "outputs": [],
   "source": [
    "Principal_disorders[\"Schizophrenia (%)\"] = Principal_disorders[\"Schizophrenia (%)\"][Principal_disorders[\"Schizophrenia (%)\"]< 10]"
   ]
  },
  {
   "cell_type": "code",
   "execution_count": 21,
   "metadata": {},
   "outputs": [
    {
     "data": {
      "text/plain": [
       "20232"
      ]
     },
     "execution_count": 21,
     "metadata": {},
     "output_type": "execute_result"
    }
   ],
   "source": [
    "Principal_disorders[\"Schizophrenia (%)\"].idxmax()"
   ]
  },
  {
   "cell_type": "code",
   "execution_count": null,
   "metadata": {},
   "outputs": [
    {
     "data": {
      "text/html": [
       "<div>\n",
       "<style scoped>\n",
       "    .dataframe tbody tr th:only-of-type {\n",
       "        vertical-align: middle;\n",
       "    }\n",
       "\n",
       "    .dataframe tbody tr th {\n",
       "        vertical-align: top;\n",
       "    }\n",
       "\n",
       "    .dataframe thead th {\n",
       "        text-align: right;\n",
       "    }\n",
       "</style>\n",
       "<table border=\"1\" class=\"dataframe\">\n",
       "  <thead>\n",
       "    <tr style=\"text-align: right;\">\n",
       "      <th></th>\n",
       "      <th>Country</th>\n",
       "      <th>Code</th>\n",
       "      <th>Year</th>\n",
       "      <th>Schizophrenia (%)</th>\n",
       "      <th>Bipolar disorder (%)</th>\n",
       "      <th>Eating disorders (%)</th>\n",
       "      <th>Anxiety disorders (%)</th>\n",
       "      <th>Depression (%)</th>\n",
       "    </tr>\n",
       "  </thead>\n",
       "  <tbody>\n",
       "    <tr>\n",
       "      <th>0</th>\n",
       "      <td>Afghanistan</td>\n",
       "      <td>AFG</td>\n",
       "      <td>1990</td>\n",
       "      <td>0.160560</td>\n",
       "      <td>0.697779</td>\n",
       "      <td>0.101855</td>\n",
       "      <td>4.828830</td>\n",
       "      <td>4.071831</td>\n",
       "    </tr>\n",
       "    <tr>\n",
       "      <th>1</th>\n",
       "      <td>Afghanistan</td>\n",
       "      <td>AFG</td>\n",
       "      <td>1991</td>\n",
       "      <td>0.160312</td>\n",
       "      <td>0.697961</td>\n",
       "      <td>0.099313</td>\n",
       "      <td>4.829740</td>\n",
       "      <td>4.079531</td>\n",
       "    </tr>\n",
       "    <tr>\n",
       "      <th>2</th>\n",
       "      <td>Afghanistan</td>\n",
       "      <td>AFG</td>\n",
       "      <td>1992</td>\n",
       "      <td>0.160135</td>\n",
       "      <td>0.698107</td>\n",
       "      <td>0.096692</td>\n",
       "      <td>4.831108</td>\n",
       "      <td>4.088358</td>\n",
       "    </tr>\n",
       "    <tr>\n",
       "      <th>3</th>\n",
       "      <td>Afghanistan</td>\n",
       "      <td>AFG</td>\n",
       "      <td>1993</td>\n",
       "      <td>0.160037</td>\n",
       "      <td>0.698257</td>\n",
       "      <td>0.094336</td>\n",
       "      <td>4.830864</td>\n",
       "      <td>4.096190</td>\n",
       "    </tr>\n",
       "    <tr>\n",
       "      <th>4</th>\n",
       "      <td>Afghanistan</td>\n",
       "      <td>AFG</td>\n",
       "      <td>1994</td>\n",
       "      <td>0.160022</td>\n",
       "      <td>0.698469</td>\n",
       "      <td>0.092439</td>\n",
       "      <td>4.829423</td>\n",
       "      <td>4.099582</td>\n",
       "    </tr>\n",
       "    <tr>\n",
       "      <th>...</th>\n",
       "      <td>...</td>\n",
       "      <td>...</td>\n",
       "      <td>...</td>\n",
       "      <td>...</td>\n",
       "      <td>...</td>\n",
       "      <td>...</td>\n",
       "      <td>...</td>\n",
       "      <td>...</td>\n",
       "    </tr>\n",
       "    <tr>\n",
       "      <th>28331</th>\n",
       "      <td>Zimbabwe</td>\n",
       "      <td>ZWE</td>\n",
       "      <td>2013</td>\n",
       "      <td>NaN</td>\n",
       "      <td>NaN</td>\n",
       "      <td>NaN</td>\n",
       "      <td>NaN</td>\n",
       "      <td>NaN</td>\n",
       "    </tr>\n",
       "    <tr>\n",
       "      <th>28332</th>\n",
       "      <td>Zimbabwe</td>\n",
       "      <td>ZWE</td>\n",
       "      <td>2014</td>\n",
       "      <td>NaN</td>\n",
       "      <td>NaN</td>\n",
       "      <td>NaN</td>\n",
       "      <td>NaN</td>\n",
       "      <td>NaN</td>\n",
       "    </tr>\n",
       "    <tr>\n",
       "      <th>28333</th>\n",
       "      <td>Zimbabwe</td>\n",
       "      <td>ZWE</td>\n",
       "      <td>2015</td>\n",
       "      <td>NaN</td>\n",
       "      <td>NaN</td>\n",
       "      <td>NaN</td>\n",
       "      <td>NaN</td>\n",
       "      <td>NaN</td>\n",
       "    </tr>\n",
       "    <tr>\n",
       "      <th>28334</th>\n",
       "      <td>Zimbabwe</td>\n",
       "      <td>ZWE</td>\n",
       "      <td>2016</td>\n",
       "      <td>NaN</td>\n",
       "      <td>NaN</td>\n",
       "      <td>NaN</td>\n",
       "      <td>NaN</td>\n",
       "      <td>NaN</td>\n",
       "    </tr>\n",
       "    <tr>\n",
       "      <th>28335</th>\n",
       "      <td>Zimbabwe</td>\n",
       "      <td>ZWE</td>\n",
       "      <td>2017</td>\n",
       "      <td>NaN</td>\n",
       "      <td>NaN</td>\n",
       "      <td>NaN</td>\n",
       "      <td>NaN</td>\n",
       "      <td>NaN</td>\n",
       "    </tr>\n",
       "  </tbody>\n",
       "</table>\n",
       "<p>28336 rows × 8 columns</p>\n",
       "</div>"
      ],
      "text/plain": [
       "           Country Code  Year  Schizophrenia (%) Bipolar disorder (%)  \\\n",
       "0      Afghanistan  AFG  1990           0.160560             0.697779   \n",
       "1      Afghanistan  AFG  1991           0.160312             0.697961   \n",
       "2      Afghanistan  AFG  1992           0.160135             0.698107   \n",
       "3      Afghanistan  AFG  1993           0.160037             0.698257   \n",
       "4      Afghanistan  AFG  1994           0.160022             0.698469   \n",
       "...            ...  ...   ...                ...                  ...   \n",
       "28331     Zimbabwe  ZWE  2013                NaN                  NaN   \n",
       "28332     Zimbabwe  ZWE  2014                NaN                  NaN   \n",
       "28333     Zimbabwe  ZWE  2015                NaN                  NaN   \n",
       "28334     Zimbabwe  ZWE  2016                NaN                  NaN   \n",
       "28335     Zimbabwe  ZWE  2017                NaN                  NaN   \n",
       "\n",
       "      Eating disorders (%)  Anxiety disorders (%)  Depression (%)  \n",
       "0                 0.101855               4.828830        4.071831  \n",
       "1                 0.099313               4.829740        4.079531  \n",
       "2                 0.096692               4.831108        4.088358  \n",
       "3                 0.094336               4.830864        4.096190  \n",
       "4                 0.092439               4.829423        4.099582  \n",
       "...                    ...                    ...             ...  \n",
       "28331                  NaN                    NaN             NaN  \n",
       "28332                  NaN                    NaN             NaN  \n",
       "28333                  NaN                    NaN             NaN  \n",
       "28334                  NaN                    NaN             NaN  \n",
       "28335                  NaN                    NaN             NaN  \n",
       "\n",
       "[28336 rows x 8 columns]"
      ]
     },
     "execution_count": 23,
     "metadata": {},
     "output_type": "execute_result"
    }
   ],
   "source": []
  },
  {
   "cell_type": "code",
   "execution_count": 27,
   "metadata": {},
   "outputs": [
    {
     "data": {
      "text/plain": [
       "6496    NaN\n",
       "6497    NaN\n",
       "6498    NaN\n",
       "6499    NaN\n",
       "6500    NaN\n",
       "         ..\n",
       "28331   NaN\n",
       "28332   NaN\n",
       "28333   NaN\n",
       "28334   NaN\n",
       "28335   NaN\n",
       "Name: Schizophrenia (%), Length: 12427, dtype: float64"
      ]
     },
     "execution_count": 27,
     "metadata": {},
     "output_type": "execute_result"
    }
   ],
   "source": [
    "Principal_disorders[\"Schizophrenia (%)\"][Principal_disorders[\"Schizophrenia (%)\"].isnull()]"
   ]
  },
  {
   "cell_type": "code",
   "execution_count": null,
   "metadata": {},
   "outputs": [],
   "source": []
  }
 ],
 "metadata": {
  "kernelspec": {
   "display_name": "Python 3",
   "language": "python",
   "name": "python3"
  },
  "language_info": {
   "codemirror_mode": {
    "name": "ipython",
    "version": 3
   },
   "file_extension": ".py",
   "mimetype": "text/x-python",
   "name": "python",
   "nbconvert_exporter": "python",
   "pygments_lexer": "ipython3",
   "version": "3.10.11"
  }
 },
 "nbformat": 4,
 "nbformat_minor": 2
}
